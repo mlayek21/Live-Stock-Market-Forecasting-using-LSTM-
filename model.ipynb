{
 "cells": [
  {
   "cell_type": "code",
   "execution_count": 1,
   "id": "80767455-67b7-4d58-808f-898029909432",
   "metadata": {},
   "outputs": [],
   "source": [
    "import numpy as np \n",
    "import pandas as pd\n",
    "import matplotlib.pyplot as plt\n",
    "import pandas_datareader as pdr"
   ]
  },
  {
   "cell_type": "code",
   "execution_count": 2,
   "id": "7fbb2c7e-1f91-4cb4-91b9-1c17d9ac40c7",
   "metadata": {},
   "outputs": [
    {
     "name": "stderr",
     "output_type": "stream",
     "text": [
      "/var/folders/dy/dqwjhxdd5m9bxwxj_zz8j4v40000gn/T/ipykernel_24193/3870759969.py:9: SettingWithCopyWarning: \n",
      "A value is trying to be set on a copy of a slice from a DataFrame.\n",
      "Try using .loc[row_indexer,col_indexer] = value instead\n",
      "\n",
      "See the caveats in the documentation: https://pandas.pydata.org/pandas-docs/stable/user_guide/indexing.html#returning-a-view-versus-a-copy\n",
      "  data['Deliverable Qty']=data['Deliverable Qty'].replace('-',method='ffill')\n"
     ]
    }
   ],
   "source": [
    "df1 = pd.read_csv('23-07-2018-TO-23-07-2019MANALIPETCALLN.csv')\n",
    "df2 = pd.read_csv('24-07-2019-TO-23-07-2020MANALIPETCALLN.csv')\n",
    "df3 = pd.read_csv('24-07-2020-TO-24-07-2021MANALIPETCALLN.csv')\n",
    "df4 = pd.read_csv('25-07-2021-TO-25-07-2022MANALIPETCALLN.csv')\n",
    "\n",
    "df5 = pd.concat([df1,df2,df3,df4])\n",
    "\n",
    "data = df5[['Open Price','High Price','Low Price','Average Price','Total Traded Quantity','Turnover','No. of Trades','Deliverable Qty','Close Price']]\n",
    "data['Deliverable Qty']=data['Deliverable Qty'].replace('-',method='ffill')\n",
    "data = np.array(data)\n",
    "# plt.plot(data)"
   ]
  },
  {
   "cell_type": "code",
   "execution_count": 3,
   "id": "db22caca-58ad-4651-b431-f2c4db6a87c2",
   "metadata": {},
   "outputs": [],
   "source": [
    "from sklearn.preprocessing import MinMaxScaler\n",
    "scaler = MinMaxScaler(feature_range = (0,1))\n",
    "df = scaler.fit_transform(data)"
   ]
  },
  {
   "cell_type": "code",
   "execution_count": 12,
   "id": "6dd745a7-99c5-45ee-9f71-d1796694a45b",
   "metadata": {},
   "outputs": [
    {
     "data": {
      "text/plain": [
       "<keras.preprocessing.sequence.TimeseriesGenerator at 0x142b22130>"
      ]
     },
     "execution_count": 12,
     "metadata": {},
     "output_type": "execute_result"
    }
   ],
   "source": [
    "target = df[:,-1]\n",
    "from keras.preprocessing.sequence import TimeseriesGenerator\n",
    "TimeseriesGenerator(df, target,\n",
    "                               length=10, sampling_rate=2,\n",
    "                               batch_size=2)"
   ]
  },
  {
   "cell_type": "code",
   "execution_count": null,
   "id": "6b57e4e8-b202-4925-a1a0-ac5f7e10707a",
   "metadata": {},
   "outputs": [],
   "source": [
    "def create_dataset(df, timestep):\n",
    "    dataX,dataY = [],[]\n",
    "    for i in range (len(df)-timestep-1):\n",
    "        a = df[i:(i+timestep), 0]\n",
    "        dataX.append(a)\n",
    "        dataY.append(df[i+timestep,0])\n",
    "    return np.array(dataX), np.array(dataY)"
   ]
  },
  {
   "cell_type": "code",
   "execution_count": null,
   "id": "300b0264-23be-4a15-90b1-4c24dbf9d5e8",
   "metadata": {},
   "outputs": [],
   "source": [
    "## split the dataset into train and test split\n",
    "training_size = int(len(df)*0.80)\n",
    "test_size = len(df)-training_size\n",
    "train_data, test_data = df[0:training_size,:], df[training_size:len(df),:1]\n",
    "\n",
    "X_train, y_train = create_dataset(train_data, 100)\n",
    "X_test, y_test = create_dataset(test_data, 100)\n",
    "\n",
    "X_train.shape, y_train.shape, X_test.shape, y_test.shape"
   ]
  },
  {
   "cell_type": "code",
   "execution_count": null,
   "id": "2eb76d64-4631-4b3e-b74c-29fe3f1b9a8e",
   "metadata": {},
   "outputs": [],
   "source": [
    "X_train = X_train.reshape(X_train.shape[0],X_train.shape[1],1)\n",
    "X_test = X_test.reshape(X_test.shape[0],X_test.shape[1],1)"
   ]
  },
  {
   "cell_type": "code",
   "execution_count": null,
   "id": "6500a16b-9db9-4b83-a538-bafbd5d56cd5",
   "metadata": {},
   "outputs": [],
   "source": [
    "from tensorflow.keras.models import Sequential\n",
    "from tensorflow.keras.layers import Dense\n",
    "from tensorflow.keras.layers import LSTM"
   ]
  },
  {
   "cell_type": "code",
   "execution_count": null,
   "id": "fa6c0a70-fdfa-4583-be79-5462d3dd65e0",
   "metadata": {},
   "outputs": [],
   "source": [
    "model = Sequential()\n",
    "model.add(LSTM(50,return_sequences=True,input_shape=(100,1)))\n",
    "model.add(LSTM(50,return_sequences=True))\n",
    "model.add(LSTM(50))\n",
    "model.add(Dense(1))\n",
    "model.compile(loss='mean_squared_error', optimizer='adam')\n",
    "\n",
    "model.summary()"
   ]
  },
  {
   "cell_type": "code",
   "execution_count": null,
   "id": "eb5b3178-aee3-4579-8a81-ef2bd289a510",
   "metadata": {
    "scrolled": true,
    "tags": []
   },
   "outputs": [],
   "source": [
    "model.fit(X_train,y_train,validation_data=(X_test,y_test),epochs=200,batch_size=128,verbose=1)"
   ]
  },
  {
   "cell_type": "code",
   "execution_count": null,
   "id": "f2ac09c7-64ff-4b9c-b5e7-736820773613",
   "metadata": {},
   "outputs": [],
   "source": [
    "train_pred = model.predict(X_train)\n",
    "test_pred = model.predict(X_test)"
   ]
  },
  {
   "cell_type": "code",
   "execution_count": null,
   "id": "00952c53-c981-4fe3-83e9-a878c4b42514",
   "metadata": {},
   "outputs": [],
   "source": [
    "train_pred = scaler.inverse_transform(train_pred)\n",
    "test_pred = scaler.inverse_transform(test_pred)\n",
    "\n",
    "import math\n",
    "from sklearn.metrics import mean_squared_error\n",
    "display(math.sqrt(mean_squared_error(y_train, train_pred)),math.sqrt(mean_squared_error(y_test, test_pred)))"
   ]
  },
  {
   "cell_type": "code",
   "execution_count": null,
   "id": "b66ff4a8-404d-43df-9cec-b8151b008016",
   "metadata": {},
   "outputs": [],
   "source": [
    "look_back = 100\n",
    "trainPredictPlot = np.empty_like(df)\n",
    "trainPredictPlot[:,:]= np.nan\n",
    "trainPredictPlot[look_back:len(train_pred)+look_back,:] = train_pred\n",
    "\n",
    "testPredictPlot = np.empty_like(df)\n",
    "testPredictPlot[:,:] = np.nan\n",
    "testPredictPlot[len(train_pred)+(look_back*2)+1:len(df)-1,:] = test_pred\n",
    "\n",
    "plt.figure(figsize=(20,10))\n",
    "plt.plot(scaler.inverse_transform(df))\n",
    "plt.plot(trainPredictPlot)\n",
    "plt.plot(testPredictPlot)\n",
    "plt.show()"
   ]
  },
  {
   "cell_type": "code",
   "execution_count": null,
   "id": "6c50c371-989b-4ea7-9350-478247270efe",
   "metadata": {},
   "outputs": [],
   "source": [
    "m = X_test[-1].reshape(1,100,1)\n",
    "data = []\n",
    "for i in range(5):\n",
    "    a = model.predict(m)\n",
    "    print('price on day '+str(i)+': '+str(scaler.inverse_transform(a)))\n",
    "    data.append(scaler.inverse_transform(a))\n",
    "    m = np.insert(m,100,a)\n",
    "    m = np.delete(m,0).reshape(1,100,1)"
   ]
  },
  {
   "cell_type": "code",
   "execution_count": null,
   "id": "bc7c7f7f-fc21-4d0e-8cfa-deb061cee7af",
   "metadata": {},
   "outputs": [],
   "source": [
    "test_pred"
   ]
  },
  {
   "cell_type": "code",
   "execution_count": null,
   "id": "3e566edd-9201-4d81-92a0-39b52b53c16c",
   "metadata": {},
   "outputs": [],
   "source": [
    "df5"
   ]
  },
  {
   "cell_type": "code",
   "execution_count": null,
   "id": "69e9e8e8-ba11-4486-8072-cd1f03208be0",
   "metadata": {},
   "outputs": [],
   "source": [
    "X_test"
   ]
  },
  {
   "cell_type": "code",
   "execution_count": null,
   "id": "d78853df-5e47-41bc-93c7-0bef433d08f3",
   "metadata": {},
   "outputs": [],
   "source": []
  }
 ],
 "metadata": {
  "kernelspec": {
   "display_name": "Python 3 (ipykernel)",
   "language": "python",
   "name": "python3"
  },
  "language_info": {
   "codemirror_mode": {
    "name": "ipython",
    "version": 3
   },
   "file_extension": ".py",
   "mimetype": "text/x-python",
   "name": "python",
   "nbconvert_exporter": "python",
   "pygments_lexer": "ipython3",
   "version": "3.9.13"
  }
 },
 "nbformat": 4,
 "nbformat_minor": 5
}

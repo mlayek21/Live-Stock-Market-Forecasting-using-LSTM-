{
 "cells": [
  {
   "cell_type": "code",
   "execution_count": 1,
   "id": "5cf711cc-5411-49a4-bba1-7420f241a4ee",
   "metadata": {},
   "outputs": [],
   "source": [
    "import numpy as np\n",
    "import pandas as pd\n",
    "import matplotlib.pyplot as plt\n",
    "import pandas_datareader as pdr"
   ]
  },
  {
   "cell_type": "markdown",
   "id": "245fbb3a-ef24-4c2b-b347-b9b664baebd8",
   "metadata": {
    "tags": []
   },
   "source": [
    "1. Collect the stock data\n",
    "2. Preprocess the data into test train \n",
    "3. Create an stacked LSTM model\n",
    "4. Predict the test data and plot the ouput\n",
    "5. Predict the future 30 days and plot"
   ]
  },
  {
   "cell_type": "code",
   "execution_count": 2,
   "id": "990cc36b-32ff-4539-ae2d-c25014b7c668",
   "metadata": {},
   "outputs": [
    {
     "data": {
      "text/plain": [
       "[<matplotlib.lines.Line2D at 0x11a6f9160>]"
      ]
     },
     "execution_count": 2,
     "metadata": {},
     "output_type": "execute_result"
    },
    {
     "data": {
      "image/png": "[encoded data removed]",
      "text/plain": [
       "<Figure size 432x288 with 1 Axes>"
      ]
     },
     "metadata": {
      "needs_background": "light"
     },
     "output_type": "display_data"
    }
   ],
   "source": [
    "# df = pdr.get_data_tiingo('AAPL',  api_key='3abe5854397d36bad345d13d5a1c88febd5b2f3e')\n",
    "# df.to_csv('AAPL.csv')\n",
    "\n",
    "df1 = pd.read_csv('AAPL.csv')\n",
    "df2 = df1.reset_index()['close']\n",
    "\n",
    "plt.plot(df2)"
   ]
  },
  {
   "cell_type": "code",
   "execution_count": 3,
   "id": "acc1fd57-7d79-488b-b108-6cfa5c3f7c84",
   "metadata": {},
   "outputs": [],
   "source": [
    "from sklearn.preprocessing import MinMaxScaler\n",
    "scaler = MinMaxScaler(feature_range = (0,1))\n",
    "df = scaler.fit_transform(np.array(df2).reshape(-1,1))"
   ]
  },
  {
   "cell_type": "code",
   "execution_count": 4,
   "id": "93e2f3f8-d2e7-4558-ae29-515dd59b4693",
   "metadata": {},
   "outputs": [],
   "source": [
    "def create_dataset(df, timestep):\n",
    "    dataX,dataY = [],[]\n",
    "    for i in range (len(df)-timestep-1):\n",
    "        a = df[i:(i+timestep), 0]\n",
    "        dataX.append(a)\n",
    "        dataY.append(df[i+timestep,0])\n",
    "    return np.array(dataX), np.array(dataY)"
   ]
  },
  {
   "cell_type": "code",
   "execution_count": 5,
   "id": "0d51226c-e018-4b14-90be-c286c1ae71f0",
   "metadata": {},
   "outputs": [
    {
     "data": {
      "text/plain": [
       "((716, 100), (716,), (340, 100), (340,))"
      ]
     },
     "execution_count": 5,
     "metadata": {},
     "output_type": "execute_result"
    }
   ],
   "source": [
    "## split the dataset into train and test split\n",
    "training_size = int(len(df)*0.65)\n",
    "test_size = len(df)-training_size\n",
    "train_data, test_data = df[0:training_size,:], df[training_size:len(df),:1]\n",
    "\n",
    "X_train, y_train = create_dataset(train_data, 100)\n",
    "X_test, y_test = create_dataset(test_data, 100)\n",
    "\n",
    "X_train.shape, y_train.shape, X_test.shape, y_test.shape"
   ]
  },
  {
   "cell_type": "code",
   "execution_count": 6,
   "id": "b9701b9c-fa34-41be-b726-9d08f4257997",
   "metadata": {},
   "outputs": [],
   "source": [
    "X_train = X_train.reshape(X_train.shape[0],X_train.shape[1],1)\n",
    "X_test = X_test.reshape(X_test.shape[0],X_test.shape[1],1)"
   ]
  },
  {
   "cell_type": "code",
   "execution_count": 7,
   "id": "6a4cc9f2-d1ff-4c27-ab3b-230a23bf3f1e",
   "metadata": {},
   "outputs": [],
   "source": [
    "from tensorflow.keras.models import Sequential\n",
    "from tensorflow.keras.layers import Dense\n",
    "from tensorflow.keras.layers import LSTM"
   ]
  },
  {
   "cell_type": "code",
   "execution_count": 8,
   "id": "b5daac0a-1d00-497a-ae70-7704e0156fe6",
   "metadata": {},
   "outputs": [
    {
     "name": "stderr",
     "output_type": "stream",
     "text": [
      "2022-07-24 23:44:01.642778: I tensorflow/core/common_runtime/pluggable_device/pluggable_device_factory.cc:305] Could not identify NUMA node of platform GPU ID 0, defaulting to 0. Your kernel may not have been built with NUMA support.\n",
      "2022-07-24 23:44:01.642870: I tensorflow/core/common_runtime/pluggable_device/pluggable_device_factory.cc:271] Created TensorFlow device (/job:localhost/replica:0/task:0/device:GPU:0 with 0 MB memory) -> physical PluggableDevice (device: 0, name: METAL, pci bus id: <undefined>)\n"
     ]
    },
    {
     "name": "stdout",
     "output_type": "stream",
     "text": [
      "Metal device set to: Apple M1\n",
      "Model: \"sequential\"\n",
      "_________________________________________________________________\n",
      " Layer (type)                Output Shape              Param #   \n",
      "=================================================================\n",
      " lstm (LSTM)                 (None, 100, 50)           10400     \n",
      "                                                                 \n",
      " lstm_1 (LSTM)               (None, 100, 50)           20200     \n",
      "                                                                 \n",
      " lstm_2 (LSTM)               (None, 50)                20200     \n",
      "                                                                 \n",
      " dense (Dense)               (None, 1)                 51        \n",
      "                                                                 \n",
      "=================================================================\n",
      "Total params: 50,851\n",
      "Trainable params: 50,851\n",
      "Non-trainable params: 0\n",
      "_________________________________________________________________\n"
     ]
    }
   ],
   "source": [
    "model = Sequential()\n",
    "model.add(LSTM(50,return_sequences=True,input_shape=(100,1)))\n",
    "model.add(LSTM(50,return_sequences=True))\n",
    "model.add(LSTM(50))\n",
    "model.add(Dense(1))\n",
    "model.compile(loss='mean_squared_error', optimizer='adam')\n",
    "\n",
    "model.summary()"
   ]
  },
  {
   "cell_type": "code",
   "execution_count": 9,
   "id": "8a7fbca2-a80a-42e1-a19a-72975a55a044",
   "metadata": {
    "scrolled": true,
    "tags": []
   },
   "outputs": [
    {
     "name": "stdout",
     "output_type": "stream",
     "text": [
      "Epoch 1/200\n"
     ]
    },
    {
     "name": "stderr",
     "output_type": "stream",
     "text": [
      "2022-07-24 23:44:02.125003: W tensorflow/core/platform/profile_utils/cpu_utils.cc:128] Failed to get CPU frequency: 0 Hz\n",
      "2022-07-24 23:44:03.748423: I tensorflow/core/grappler/optimizers/custom_graph_optimizer_registry.cc:113] Plugin optimizer for device_type GPU is enabled.\n",
      "2022-07-24 23:44:04.006282: I tensorflow/core/grappler/optimizers/custom_graph_optimizer_registry.cc:113] Plugin optimizer for device_type GPU is enabled.\n",
      "2022-07-24 23:44:04.143507: I tensorflow/core/grappler/optimizers/custom_graph_optimizer_registry.cc:113] Plugin optimizer for device_type GPU is enabled.\n",
      "2022-07-24 23:44:04.256587: I tensorflow/core/grappler/optimizers/custom_graph_optimizer_registry.cc:113] Plugin optimizer for device_type GPU is enabled.\n",
      "2022-07-24 23:44:04.404477: I tensorflow/core/grappler/optimizers/custom_graph_optimizer_registry.cc:113] Plugin optimizer for device_type GPU is enabled.\n",
      "2022-07-24 23:44:04.631415: I tensorflow/core/grappler/optimizers/custom_graph_optimizer_registry.cc:113] Plugin optimizer for device_type GPU is enabled.\n",
      "2022-07-24 23:44:04.826239: I tensorflow/core/grappler/optimizers/custom_graph_optimizer_registry.cc:113] Plugin optimizer for device_type GPU is enabled.\n"
     ]
    },
    {
     "name": "stdout",
     "output_type": "stream",
     "text": [
      "12/12 [==============================] - ETA: 0s - loss: 0.0352"
     ]
    },
    {
     "name": "stderr",
     "output_type": "stream",
     "text": [
      "2022-07-24 23:44:06.689241: I tensorflow/core/grappler/optimizers/custom_graph_optimizer_registry.cc:113] Plugin optimizer for device_type GPU is enabled.\n",
      "2022-07-24 23:44:06.782284: I tensorflow/core/grappler/optimizers/custom_graph_optimizer_registry.cc:113] Plugin optimizer for device_type GPU is enabled.\n",
      "2022-07-24 23:44:06.882850: I tensorflow/core/grappler/optimizers/custom_graph_optimizer_registry.cc:113] Plugin optimizer for device_type GPU is enabled.\n",
      "2022-07-24 23:44:06.986798: I tensorflow/core/grappler/optimizers/custom_graph_optimizer_registry.cc:113] Plugin optimizer for device_type GPU is enabled.\n"
     ]
    },
    {
     "name": "stdout",
     "output_type": "stream",
     "text": [
      "12/12 [==============================] - 5s 223ms/step - loss: 0.0352 - val_loss: 8.5109e-04\n",
      "Epoch 2/200\n",
      "12/12 [==============================] - 1s 67ms/step - loss: 0.0160 - val_loss: 0.0101\n",
      "Epoch 3/200\n",
      "12/12 [==============================] - 1s 69ms/step - loss: 0.0134 - val_loss: 6.7053e-04\n",
      "Epoch 4/200\n",
      "12/12 [==============================] - 1s 68ms/step - loss: 0.0107 - val_loss: 3.0157e-04\n",
      "Epoch 5/200\n",
      "12/12 [==============================] - 1s 68ms/step - loss: 0.0100 - val_loss: 4.3989e-04\n",
      "Epoch 6/200\n",
      "12/12 [==============================] - 1s 70ms/step - loss: 0.0107 - val_loss: 0.0034\n",
      "Epoch 7/200\n",
      "12/12 [==============================] - 1s 71ms/step - loss: 0.0089 - val_loss: 4.2509e-04\n",
      "Epoch 8/200\n",
      "12/12 [==============================] - 1s 75ms/step - loss: 0.0080 - val_loss: 8.9255e-04\n",
      "Epoch 9/200\n",
      "12/12 [==============================] - 1s 72ms/step - loss: 0.0069 - val_loss: 6.3759e-04\n",
      "Epoch 10/200\n",
      "12/12 [==============================] - 1s 72ms/step - loss: 0.0062 - val_loss: 7.5266e-04\n",
      "Epoch 11/200\n",
      "12/12 [==============================] - 1s 71ms/step - loss: 0.0057 - val_loss: 2.6072e-04\n",
      "Epoch 12/200\n",
      "12/12 [==============================] - 1s 70ms/step - loss: 0.0047 - val_loss: 2.7951e-04\n",
      "Epoch 13/200\n",
      "12/12 [==============================] - 1s 70ms/step - loss: 0.0045 - val_loss: 5.1509e-04\n",
      "Epoch 14/200\n",
      "12/12 [==============================] - 1s 70ms/step - loss: 0.0040 - val_loss: 8.4123e-04\n",
      "Epoch 15/200\n",
      "12/12 [==============================] - 1s 71ms/step - loss: 0.0038 - val_loss: 4.9143e-04\n",
      "Epoch 16/200\n",
      "12/12 [==============================] - 1s 70ms/step - loss: 0.0040 - val_loss: 5.0202e-04\n",
      "Epoch 17/200\n",
      "12/12 [==============================] - 1s 68ms/step - loss: 0.0041 - val_loss: 5.1876e-04\n",
      "Epoch 18/200\n",
      "12/12 [==============================] - 1s 68ms/step - loss: 0.0037 - val_loss: 2.7363e-04\n",
      "Epoch 19/200\n",
      "12/12 [==============================] - 1s 68ms/step - loss: 0.0030 - val_loss: 2.7351e-04\n",
      "Epoch 20/200\n",
      "12/12 [==============================] - 1s 69ms/step - loss: 0.0027 - val_loss: 9.8571e-04\n",
      "Epoch 21/200\n",
      "12/12 [==============================] - 1s 69ms/step - loss: 0.0044 - val_loss: 2.2536e-04\n",
      "Epoch 22/200\n",
      "12/12 [==============================] - 1s 70ms/step - loss: 0.0041 - val_loss: 3.9902e-04\n",
      "Epoch 23/200\n",
      "12/12 [==============================] - 1s 69ms/step - loss: 0.0029 - val_loss: 7.2879e-04\n",
      "Epoch 24/200\n",
      "12/12 [==============================] - 1s 68ms/step - loss: 0.0029 - val_loss: 4.0533e-04\n",
      "Epoch 25/200\n",
      "12/12 [==============================] - 1s 68ms/step - loss: 0.0024 - val_loss: 4.0938e-04\n",
      "Epoch 26/200\n",
      "12/12 [==============================] - 1s 68ms/step - loss: 0.0028 - val_loss: 5.4273e-04\n",
      "Epoch 27/200\n",
      "12/12 [==============================] - 1s 68ms/step - loss: 0.0033 - val_loss: 1.9875e-04\n",
      "Epoch 28/200\n",
      "12/12 [==============================] - 1s 68ms/step - loss: 0.0026 - val_loss: 2.3059e-04\n",
      "Epoch 29/200\n",
      "12/12 [==============================] - 1s 69ms/step - loss: 0.0024 - val_loss: 2.6397e-04\n",
      "Epoch 30/200\n",
      "12/12 [==============================] - 1s 69ms/step - loss: 0.0027 - val_loss: 2.3810e-04\n",
      "Epoch 31/200\n",
      "12/12 [==============================] - 1s 69ms/step - loss: 0.0027 - val_loss: 2.0457e-04\n",
      "Epoch 32/200\n",
      "12/12 [==============================] - 1s 69ms/step - loss: 0.0031 - val_loss: 2.1256e-04\n",
      "Epoch 33/200\n",
      "12/12 [==============================] - 1s 70ms/step - loss: 0.0041 - val_loss: 4.1397e-04\n",
      "Epoch 34/200\n",
      "12/12 [==============================] - 1s 69ms/step - loss: 0.0024 - val_loss: 3.1512e-04\n",
      "Epoch 35/200\n",
      "12/12 [==============================] - 1s 70ms/step - loss: 0.0022 - val_loss: 2.1755e-04\n",
      "Epoch 36/200\n",
      "12/12 [==============================] - 1s 69ms/step - loss: 0.0021 - val_loss: 2.0731e-04\n",
      "Epoch 37/200\n",
      "12/12 [==============================] - 1s 69ms/step - loss: 0.0026 - val_loss: 2.2348e-04\n",
      "Epoch 38/200\n",
      "12/12 [==============================] - 1s 69ms/step - loss: 0.0020 - val_loss: 2.2098e-04\n",
      "Epoch 39/200\n",
      "12/12 [==============================] - 1s 69ms/step - loss: 0.0019 - val_loss: 1.8838e-04\n",
      "Epoch 40/200\n",
      "12/12 [==============================] - 1s 69ms/step - loss: 0.0023 - val_loss: 2.4677e-04\n",
      "Epoch 41/200\n",
      "12/12 [==============================] - 1s 69ms/step - loss: 0.0022 - val_loss: 2.4100e-04\n",
      "Epoch 42/200\n",
      "12/12 [==============================] - 1s 69ms/step - loss: 0.0022 - val_loss: 1.8953e-04\n",
      "Epoch 43/200\n",
      "12/12 [==============================] - 1s 69ms/step - loss: 0.0020 - val_loss: 2.7917e-04\n",
      "Epoch 44/200\n",
      "12/12 [==============================] - 1s 70ms/step - loss: 0.0023 - val_loss: 1.8873e-04\n",
      "Epoch 45/200\n",
      "12/12 [==============================] - 1s 69ms/step - loss: 0.0022 - val_loss: 1.8934e-04\n",
      "Epoch 46/200\n",
      "12/12 [==============================] - 1s 69ms/step - loss: 0.0017 - val_loss: 1.9503e-04\n",
      "Epoch 47/200\n",
      "12/12 [==============================] - 1s 69ms/step - loss: 0.0033 - val_loss: 4.3408e-04\n",
      "Epoch 48/200\n",
      "12/12 [==============================] - 1s 69ms/step - loss: 0.0026 - val_loss: 1.8585e-04\n",
      "Epoch 49/200\n",
      "12/12 [==============================] - 1s 69ms/step - loss: 0.0022 - val_loss: 5.8597e-04\n",
      "Epoch 50/200\n",
      "12/12 [==============================] - 1s 69ms/step - loss: 0.0023 - val_loss: 4.5433e-04\n",
      "Epoch 51/200\n",
      "12/12 [==============================] - 1s 69ms/step - loss: 0.0024 - val_loss: 2.0271e-04\n",
      "Epoch 52/200\n",
      "12/12 [==============================] - 1s 69ms/step - loss: 0.0054 - val_loss: 1.7639e-04\n",
      "Epoch 53/200\n",
      "12/12 [==============================] - 1s 69ms/step - loss: 0.0032 - val_loss: 2.0838e-04\n",
      "Epoch 54/200\n",
      "12/12 [==============================] - 1s 69ms/step - loss: 0.0045 - val_loss: 2.8157e-04\n",
      "Epoch 55/200\n",
      "12/12 [==============================] - 1s 69ms/step - loss: 0.0040 - val_loss: 2.5132e-04\n",
      "Epoch 56/200\n",
      "12/12 [==============================] - 1s 69ms/step - loss: 0.0030 - val_loss: 2.2568e-04\n",
      "Epoch 57/200\n",
      "12/12 [==============================] - 1s 69ms/step - loss: 0.0026 - val_loss: 2.2444e-04\n",
      "Epoch 58/200\n",
      "12/12 [==============================] - 1s 69ms/step - loss: 0.0028 - val_loss: 2.5755e-04\n",
      "Epoch 59/200\n",
      "12/12 [==============================] - 1s 70ms/step - loss: 0.0028 - val_loss: 4.1909e-04\n",
      "Epoch 60/200\n",
      "12/12 [==============================] - 1s 69ms/step - loss: 0.0030 - val_loss: 2.5851e-04\n",
      "Epoch 61/200\n",
      "12/12 [==============================] - 1s 69ms/step - loss: 0.0029 - val_loss: 1.8942e-04\n",
      "Epoch 62/200\n",
      "12/12 [==============================] - 1s 69ms/step - loss: 0.0021 - val_loss: 4.0478e-04\n",
      "Epoch 63/200\n",
      "12/12 [==============================] - 1s 69ms/step - loss: 0.0022 - val_loss: 1.8403e-04\n",
      "Epoch 64/200\n",
      "12/12 [==============================] - 1s 70ms/step - loss: 0.0022 - val_loss: 2.2144e-04\n",
      "Epoch 65/200\n",
      "12/12 [==============================] - 1s 70ms/step - loss: 0.0018 - val_loss: 2.4850e-04\n",
      "Epoch 66/200\n",
      "12/12 [==============================] - 1s 69ms/step - loss: 0.0020 - val_loss: 1.7204e-04\n",
      "Epoch 67/200\n",
      "12/12 [==============================] - 1s 69ms/step - loss: 0.0017 - val_loss: 1.6632e-04\n",
      "Epoch 68/200\n",
      "12/12 [==============================] - 1s 70ms/step - loss: 0.0020 - val_loss: 1.7161e-04\n",
      "Epoch 69/200\n",
      "12/12 [==============================] - 1s 69ms/step - loss: 0.0019 - val_loss: 2.2690e-04\n",
      "Epoch 70/200\n",
      "12/12 [==============================] - 1s 69ms/step - loss: 0.0017 - val_loss: 1.6800e-04\n",
      "Epoch 71/200\n",
      "12/12 [==============================] - 1s 70ms/step - loss: 0.0016 - val_loss: 1.8368e-04\n",
      "Epoch 72/200\n",
      "12/12 [==============================] - 1s 70ms/step - loss: 0.0015 - val_loss: 2.3333e-04\n",
      "Epoch 73/200\n",
      "12/12 [==============================] - 1s 70ms/step - loss: 0.0015 - val_loss: 2.2070e-04\n",
      "Epoch 74/200\n",
      "12/12 [==============================] - 1s 70ms/step - loss: 0.0015 - val_loss: 2.0451e-04\n",
      "Epoch 75/200\n",
      "12/12 [==============================] - 1s 70ms/step - loss: 0.0018 - val_loss: 2.2189e-04\n",
      "Epoch 76/200\n",
      "12/12 [==============================] - 1s 70ms/step - loss: 0.0017 - val_loss: 1.6382e-04\n",
      "Epoch 77/200\n",
      "12/12 [==============================] - 1s 70ms/step - loss: 0.0016 - val_loss: 1.6351e-04\n",
      "Epoch 78/200\n",
      "12/12 [==============================] - 1s 71ms/step - loss: 0.0013 - val_loss: 1.7730e-04\n",
      "Epoch 79/200\n",
      "12/12 [==============================] - 1s 70ms/step - loss: 0.0014 - val_loss: 2.3119e-04\n",
      "Epoch 80/200\n",
      "12/12 [==============================] - 1s 70ms/step - loss: 0.0014 - val_loss: 3.2579e-04\n",
      "Epoch 81/200\n",
      "12/12 [==============================] - 1s 70ms/step - loss: 0.0020 - val_loss: 4.6626e-04\n",
      "Epoch 82/200\n",
      "12/12 [==============================] - 1s 70ms/step - loss: 0.0018 - val_loss: 2.2926e-04\n",
      "Epoch 83/200\n",
      "12/12 [==============================] - 1s 70ms/step - loss: 0.0014 - val_loss: 2.3169e-04\n",
      "Epoch 84/200\n",
      "12/12 [==============================] - 1s 70ms/step - loss: 0.0014 - val_loss: 2.4524e-04\n",
      "Epoch 85/200\n",
      "12/12 [==============================] - 1s 70ms/step - loss: 0.0015 - val_loss: 1.6703e-04\n",
      "Epoch 86/200\n",
      "12/12 [==============================] - 1s 70ms/step - loss: 0.0012 - val_loss: 2.3484e-04\n",
      "Epoch 87/200\n",
      "12/12 [==============================] - 1s 70ms/step - loss: 0.0013 - val_loss: 3.0209e-04\n",
      "Epoch 88/200\n",
      "12/12 [==============================] - 1s 70ms/step - loss: 0.0013 - val_loss: 2.9070e-04\n",
      "Epoch 89/200\n",
      "12/12 [==============================] - 1s 70ms/step - loss: 0.0012 - val_loss: 3.3237e-04\n",
      "Epoch 90/200\n",
      "12/12 [==============================] - 1s 70ms/step - loss: 0.0012 - val_loss: 3.1713e-04\n",
      "Epoch 91/200\n",
      "12/12 [==============================] - 1s 70ms/step - loss: 0.0019 - val_loss: 0.0011\n",
      "Epoch 92/200\n",
      "12/12 [==============================] - 1s 69ms/step - loss: 0.0017 - val_loss: 1.6254e-04\n",
      "Epoch 93/200\n",
      "12/12 [==============================] - 1s 70ms/step - loss: 0.0014 - val_loss: 2.7564e-04\n",
      "Epoch 94/200\n",
      "12/12 [==============================] - 1s 69ms/step - loss: 0.0012 - val_loss: 1.7270e-04\n",
      "Epoch 95/200\n",
      "12/12 [==============================] - 1s 70ms/step - loss: 0.0016 - val_loss: 3.8551e-04\n",
      "Epoch 96/200\n",
      "12/12 [==============================] - 1s 70ms/step - loss: 0.0011 - val_loss: 1.8526e-04\n",
      "Epoch 97/200\n",
      "12/12 [==============================] - 1s 70ms/step - loss: 0.0013 - val_loss: 3.4210e-04\n",
      "Epoch 98/200\n",
      "12/12 [==============================] - 1s 70ms/step - loss: 0.0012 - val_loss: 3.0724e-04\n",
      "Epoch 99/200\n",
      "12/12 [==============================] - 1s 70ms/step - loss: 0.0016 - val_loss: 2.2918e-04\n",
      "Epoch 100/200\n",
      "12/12 [==============================] - 1s 70ms/step - loss: 0.0012 - val_loss: 1.6269e-04\n",
      "Epoch 101/200\n",
      "12/12 [==============================] - 1s 70ms/step - loss: 8.2029e-04 - val_loss: 2.6547e-04\n",
      "Epoch 102/200\n",
      "12/12 [==============================] - 1s 70ms/step - loss: 0.0014 - val_loss: 2.9348e-04\n",
      "Epoch 103/200\n",
      "12/12 [==============================] - 1s 70ms/step - loss: 0.0014 - val_loss: 1.7408e-04\n",
      "Epoch 104/200\n",
      "12/12 [==============================] - 1s 70ms/step - loss: 0.0016 - val_loss: 1.9166e-04\n",
      "Epoch 105/200\n",
      "12/12 [==============================] - 1s 70ms/step - loss: 0.0013 - val_loss: 1.5369e-04\n",
      "Epoch 106/200\n",
      "12/12 [==============================] - 1s 70ms/step - loss: 0.0012 - val_loss: 1.5563e-04\n",
      "Epoch 107/200\n",
      "12/12 [==============================] - 1s 72ms/step - loss: 0.0010 - val_loss: 2.6829e-04\n",
      "Epoch 108/200\n",
      "12/12 [==============================] - 1s 71ms/step - loss: 0.0010 - val_loss: 1.6042e-04\n",
      "Epoch 109/200\n",
      "12/12 [==============================] - 1s 73ms/step - loss: 8.5794e-04 - val_loss: 1.8731e-04\n",
      "Epoch 110/200\n",
      "12/12 [==============================] - 1s 71ms/step - loss: 0.0011 - val_loss: 2.2468e-04\n",
      "Epoch 111/200\n",
      "12/12 [==============================] - 1s 77ms/step - loss: 9.2480e-04 - val_loss: 1.8616e-04\n",
      "Epoch 112/200\n",
      "12/12 [==============================] - 1s 72ms/step - loss: 0.0012 - val_loss: 1.6002e-04\n",
      "Epoch 113/200\n",
      "12/12 [==============================] - 1s 72ms/step - loss: 0.0011 - val_loss: 1.9590e-04\n",
      "Epoch 114/200\n",
      "12/12 [==============================] - 1s 71ms/step - loss: 9.0029e-04 - val_loss: 2.3973e-04\n",
      "Epoch 115/200\n",
      "12/12 [==============================] - 1s 72ms/step - loss: 0.0011 - val_loss: 1.8188e-04\n",
      "Epoch 116/200\n",
      "12/12 [==============================] - 1s 72ms/step - loss: 0.0014 - val_loss: 4.4378e-04\n",
      "Epoch 117/200\n",
      "12/12 [==============================] - 1s 72ms/step - loss: 0.0010 - val_loss: 1.4178e-04\n",
      "Epoch 118/200\n",
      "12/12 [==============================] - 1s 71ms/step - loss: 9.1111e-04 - val_loss: 2.0151e-04\n",
      "Epoch 119/200\n",
      "12/12 [==============================] - 1s 72ms/step - loss: 9.4946e-04 - val_loss: 1.5381e-04\n",
      "Epoch 120/200\n",
      "12/12 [==============================] - 1s 76ms/step - loss: 9.7706e-04 - val_loss: 1.5911e-04\n",
      "Epoch 121/200\n",
      "12/12 [==============================] - 1s 73ms/step - loss: 9.8359e-04 - val_loss: 2.3525e-04\n",
      "Epoch 122/200\n",
      "12/12 [==============================] - 1s 70ms/step - loss: 7.3184e-04 - val_loss: 1.4212e-04\n",
      "Epoch 123/200\n",
      "12/12 [==============================] - 1s 70ms/step - loss: 8.8353e-04 - val_loss: 1.5100e-04\n",
      "Epoch 124/200\n",
      "12/12 [==============================] - 1s 70ms/step - loss: 8.6175e-04 - val_loss: 1.8464e-04\n",
      "Epoch 125/200\n",
      "12/12 [==============================] - 1s 71ms/step - loss: 7.9625e-04 - val_loss: 2.2961e-04\n",
      "Epoch 126/200\n",
      "12/12 [==============================] - 1s 70ms/step - loss: 9.5560e-04 - val_loss: 1.8463e-04\n",
      "Epoch 127/200\n",
      "12/12 [==============================] - 1s 70ms/step - loss: 9.2338e-04 - val_loss: 1.4152e-04\n",
      "Epoch 128/200\n",
      "12/12 [==============================] - 1s 71ms/step - loss: 7.7911e-04 - val_loss: 1.6301e-04\n",
      "Epoch 129/200\n",
      "12/12 [==============================] - 1s 72ms/step - loss: 7.2959e-04 - val_loss: 1.5679e-04\n",
      "Epoch 130/200\n",
      "12/12 [==============================] - 1s 71ms/step - loss: 6.9657e-04 - val_loss: 1.4225e-04\n",
      "Epoch 131/200\n",
      "12/12 [==============================] - 1s 72ms/step - loss: 0.0010 - val_loss: 1.6381e-04\n",
      "Epoch 132/200\n",
      "12/12 [==============================] - 1s 72ms/step - loss: 0.0010 - val_loss: 1.4032e-04\n",
      "Epoch 133/200\n",
      "12/12 [==============================] - 1s 72ms/step - loss: 0.0011 - val_loss: 2.2545e-04\n",
      "Epoch 134/200\n",
      "12/12 [==============================] - 1s 72ms/step - loss: 0.0011 - val_loss: 1.3849e-04\n",
      "Epoch 135/200\n",
      "12/12 [==============================] - 1s 71ms/step - loss: 8.0061e-04 - val_loss: 1.7756e-04\n",
      "Epoch 136/200\n",
      "12/12 [==============================] - 1s 70ms/step - loss: 0.0011 - val_loss: 1.8066e-04\n",
      "Epoch 137/200\n",
      "12/12 [==============================] - 1s 70ms/step - loss: 8.6020e-04 - val_loss: 1.3540e-04\n",
      "Epoch 138/200\n",
      "12/12 [==============================] - 1s 70ms/step - loss: 9.2172e-04 - val_loss: 1.9672e-04\n",
      "Epoch 139/200\n",
      "12/12 [==============================] - 1s 70ms/step - loss: 0.0012 - val_loss: 1.3572e-04\n",
      "Epoch 140/200\n",
      "12/12 [==============================] - 1s 70ms/step - loss: 0.0014 - val_loss: 1.9752e-04\n",
      "Epoch 141/200\n",
      "12/12 [==============================] - 1s 70ms/step - loss: 0.0044 - val_loss: 2.1030e-04\n",
      "Epoch 142/200\n",
      "12/12 [==============================] - 1s 71ms/step - loss: 0.0029 - val_loss: 4.0440e-04\n",
      "Epoch 143/200\n",
      "12/12 [==============================] - 1s 71ms/step - loss: 0.0023 - val_loss: 1.3947e-04\n",
      "Epoch 144/200\n",
      "12/12 [==============================] - 1s 71ms/step - loss: 0.0017 - val_loss: 1.3970e-04\n",
      "Epoch 145/200\n",
      "12/12 [==============================] - 1s 71ms/step - loss: 0.0013 - val_loss: 1.3654e-04\n",
      "Epoch 146/200\n",
      "12/12 [==============================] - 1s 71ms/step - loss: 0.0014 - val_loss: 1.4539e-04\n",
      "Epoch 147/200\n",
      "12/12 [==============================] - 1s 71ms/step - loss: 0.0011 - val_loss: 1.3483e-04\n",
      "Epoch 148/200\n",
      "12/12 [==============================] - 1s 72ms/step - loss: 0.0010 - val_loss: 1.3397e-04\n",
      "Epoch 149/200\n",
      "12/12 [==============================] - 1s 71ms/step - loss: 0.0015 - val_loss: 3.4839e-04\n",
      "Epoch 150/200\n",
      "12/12 [==============================] - 1s 71ms/step - loss: 0.0011 - val_loss: 1.3771e-04\n",
      "Epoch 151/200\n",
      "12/12 [==============================] - 1s 71ms/step - loss: 0.0017 - val_loss: 5.1078e-04\n",
      "Epoch 152/200\n",
      "12/12 [==============================] - 1s 71ms/step - loss: 0.0011 - val_loss: 1.3823e-04\n",
      "Epoch 153/200\n",
      "12/12 [==============================] - 1s 71ms/step - loss: 0.0011 - val_loss: 1.3013e-04\n",
      "Epoch 154/200\n",
      "12/12 [==============================] - 1s 71ms/step - loss: 9.3461e-04 - val_loss: 1.6302e-04\n",
      "Epoch 155/200\n",
      "12/12 [==============================] - 1s 71ms/step - loss: 9.2797e-04 - val_loss: 1.9325e-04\n",
      "Epoch 156/200\n",
      "12/12 [==============================] - 1s 71ms/step - loss: 7.8427e-04 - val_loss: 1.5007e-04\n",
      "Epoch 157/200\n",
      "12/12 [==============================] - 1s 71ms/step - loss: 8.7638e-04 - val_loss: 1.6346e-04\n",
      "Epoch 158/200\n",
      "12/12 [==============================] - 1s 71ms/step - loss: 9.2014e-04 - val_loss: 2.1516e-04\n",
      "Epoch 159/200\n",
      "12/12 [==============================] - 1s 71ms/step - loss: 8.3987e-04 - val_loss: 1.3183e-04\n",
      "Epoch 160/200\n",
      "12/12 [==============================] - 1s 71ms/step - loss: 8.8170e-04 - val_loss: 2.1309e-04\n",
      "Epoch 161/200\n",
      "12/12 [==============================] - 1s 72ms/step - loss: 7.5923e-04 - val_loss: 1.3487e-04\n",
      "Epoch 162/200\n",
      "12/12 [==============================] - 1s 71ms/step - loss: 0.0010 - val_loss: 2.7214e-04\n",
      "Epoch 163/200\n",
      "12/12 [==============================] - 1s 70ms/step - loss: 7.6499e-04 - val_loss: 1.3501e-04\n",
      "Epoch 164/200\n",
      "12/12 [==============================] - 1s 71ms/step - loss: 8.3803e-04 - val_loss: 2.0114e-04\n",
      "Epoch 165/200\n",
      "12/12 [==============================] - 1s 71ms/step - loss: 7.8758e-04 - val_loss: 1.5704e-04\n",
      "Epoch 166/200\n",
      "12/12 [==============================] - 1s 71ms/step - loss: 9.0885e-04 - val_loss: 1.4552e-04\n",
      "Epoch 167/200\n",
      "12/12 [==============================] - 1s 72ms/step - loss: 7.6487e-04 - val_loss: 1.3203e-04\n",
      "Epoch 168/200\n",
      "12/12 [==============================] - 1s 71ms/step - loss: 9.4043e-04 - val_loss: 2.2517e-04\n",
      "Epoch 169/200\n",
      "12/12 [==============================] - 1s 71ms/step - loss: 8.1867e-04 - val_loss: 1.7989e-04\n",
      "Epoch 170/200\n",
      "12/12 [==============================] - 1s 71ms/step - loss: 0.0027 - val_loss: 9.2868e-04\n",
      "Epoch 171/200\n",
      "12/12 [==============================] - 1s 71ms/step - loss: 0.0017 - val_loss: 1.3415e-04\n",
      "Epoch 172/200\n",
      "12/12 [==============================] - 1s 71ms/step - loss: 0.0019 - val_loss: 2.6221e-04\n",
      "Epoch 173/200\n",
      "12/12 [==============================] - 1s 71ms/step - loss: 0.0014 - val_loss: 1.2404e-04\n",
      "Epoch 174/200\n",
      "12/12 [==============================] - 1s 71ms/step - loss: 0.0055 - val_loss: 5.5181e-04\n",
      "Epoch 175/200\n",
      "12/12 [==============================] - 1s 72ms/step - loss: 0.0029 - val_loss: 0.0023\n",
      "Epoch 176/200\n",
      "12/12 [==============================] - 1s 71ms/step - loss: 0.0025 - val_loss: 1.3542e-04\n",
      "Epoch 177/200\n",
      "12/12 [==============================] - 1s 72ms/step - loss: 0.0021 - val_loss: 1.8930e-04\n",
      "Epoch 178/200\n",
      "12/12 [==============================] - 1s 74ms/step - loss: 0.0019 - val_loss: 2.4395e-04\n",
      "Epoch 179/200\n",
      "12/12 [==============================] - 1s 73ms/step - loss: 0.0017 - val_loss: 1.3623e-04\n",
      "Epoch 180/200\n",
      "12/12 [==============================] - 1s 71ms/step - loss: 0.0017 - val_loss: 1.7963e-04\n",
      "Epoch 181/200\n",
      "12/12 [==============================] - 1s 71ms/step - loss: 0.0015 - val_loss: 1.2359e-04\n",
      "Epoch 182/200\n",
      "12/12 [==============================] - 1s 71ms/step - loss: 0.0016 - val_loss: 1.2838e-04\n",
      "Epoch 183/200\n",
      "12/12 [==============================] - 1s 71ms/step - loss: 0.0016 - val_loss: 5.8042e-04\n",
      "Epoch 184/200\n",
      "12/12 [==============================] - 1s 71ms/step - loss: 0.0015 - val_loss: 1.9644e-04\n",
      "Epoch 185/200\n",
      "12/12 [==============================] - 1s 71ms/step - loss: 0.0013 - val_loss: 1.2613e-04\n",
      "Epoch 186/200\n",
      "12/12 [==============================] - 1s 71ms/step - loss: 0.0013 - val_loss: 1.3144e-04\n",
      "Epoch 187/200\n",
      "12/12 [==============================] - 1s 71ms/step - loss: 0.0013 - val_loss: 1.9343e-04\n",
      "Epoch 188/200\n",
      "12/12 [==============================] - 1s 71ms/step - loss: 0.0012 - val_loss: 1.2917e-04\n",
      "Epoch 189/200\n",
      "12/12 [==============================] - 1s 72ms/step - loss: 0.0012 - val_loss: 4.0887e-04\n",
      "Epoch 190/200\n",
      "12/12 [==============================] - 1s 72ms/step - loss: 0.0011 - val_loss: 1.2603e-04\n",
      "Epoch 191/200\n",
      "12/12 [==============================] - 1s 71ms/step - loss: 0.0012 - val_loss: 3.7290e-04\n",
      "Epoch 192/200\n",
      "12/12 [==============================] - 1s 83ms/step - loss: 0.0010 - val_loss: 1.3814e-04\n",
      "Epoch 193/200\n",
      "12/12 [==============================] - 1s 71ms/step - loss: 0.0011 - val_loss: 3.2492e-04\n",
      "Epoch 194/200\n",
      "12/12 [==============================] - 1s 71ms/step - loss: 9.3767e-04 - val_loss: 1.3537e-04\n",
      "Epoch 195/200\n",
      "12/12 [==============================] - 1s 72ms/step - loss: 0.0010 - val_loss: 3.4181e-04\n",
      "Epoch 196/200\n",
      "12/12 [==============================] - 1s 70ms/step - loss: 0.0013 - val_loss: 9.3929e-04\n",
      "Epoch 197/200\n",
      "12/12 [==============================] - 1s 70ms/step - loss: 0.0012 - val_loss: 1.2634e-04\n",
      "Epoch 198/200\n",
      "12/12 [==============================] - 1s 70ms/step - loss: 0.0010 - val_loss: 1.7695e-04\n",
      "Epoch 199/200\n",
      "12/12 [==============================] - 1s 71ms/step - loss: 9.8191e-04 - val_loss: 3.0582e-04\n",
      "Epoch 200/200\n",
      "12/12 [==============================] - 549s 50s/step - loss: 0.0011 - val_loss: 3.0023e-04\n"
     ]
    },
    {
     "data": {
      "text/plain": [
       "<keras.callbacks.History at 0x12c238850>"
      ]
     },
     "execution_count": 9,
     "metadata": {},
     "output_type": "execute_result"
    }
   ],
   "source": [
    "model.fit(X_train,y_train,validation_data=(X_test,y_test),epochs=200,batch_size=64,verbose=1)"
   ]
  },
  {
   "cell_type": "code",
   "execution_count": 10,
   "id": "c6fab13f-0176-47e5-a91c-500f5cd8b54f",
   "metadata": {},
   "outputs": [
    {
     "name": "stderr",
     "output_type": "stream",
     "text": [
      "2022-07-24 23:56:01.010477: I tensorflow/core/grappler/optimizers/custom_graph_optimizer_registry.cc:113] Plugin optimizer for device_type GPU is enabled.\n",
      "2022-07-24 23:56:01.143353: I tensorflow/core/grappler/optimizers/custom_graph_optimizer_registry.cc:113] Plugin optimizer for device_type GPU is enabled.\n",
      "2022-07-24 23:56:01.251609: I tensorflow/core/grappler/optimizers/custom_graph_optimizer_registry.cc:113] Plugin optimizer for device_type GPU is enabled.\n",
      "2022-07-24 23:56:01.357850: I tensorflow/core/grappler/optimizers/custom_graph_optimizer_registry.cc:113] Plugin optimizer for device_type GPU is enabled.\n"
     ]
    },
    {
     "name": "stdout",
     "output_type": "stream",
     "text": [
      "23/23 [==============================] - 2s 39ms/step\n",
      "11/11 [==============================] - 1s 51ms/step\n"
     ]
    }
   ],
   "source": [
    "train_pred = model.predict(X_train)\n",
    "test_pred = model.predict(X_test)"
   ]
  },
  {
   "cell_type": "code",
   "execution_count": 11,
   "id": "2cfe6883-3640-4ebd-989e-a9119852a5d2",
   "metadata": {},
   "outputs": [
    {
     "data": {
      "text/plain": [
       "238.45114125904107"
      ]
     },
     "metadata": {},
     "output_type": "display_data"
    },
    {
     "data": {
      "text/plain": [
       "155.42335030325677"
      ]
     },
     "metadata": {},
     "output_type": "display_data"
    }
   ],
   "source": [
    "train_pred = scaler.inverse_transform(train_pred)\n",
    "test_pred = scaler.inverse_transform(test_pred)\n",
    "\n",
    "import math\n",
    "from sklearn.metrics import mean_squared_error\n",
    "display(math.sqrt(mean_squared_error(y_train, train_pred)),math.sqrt(mean_squared_error(y_test, test_pred)))"
   ]
  },
  {
   "cell_type": "code",
   "execution_count": 12,
   "id": "26756cc6-b07a-4c9c-ad4b-1ba16d06c7d8",
   "metadata": {},
   "outputs": [
    {
     "data": {
      "image/png": "[encoded data removed]",
      "text/plain": [
       "<Figure size 432x288 with 1 Axes>"
      ]
     },
     "metadata": {
      "needs_background": "light"
     },
     "output_type": "display_data"
    }
   ],
   "source": [
    "look_back = 100\n",
    "trainPredictPlot = np.empty_like(df)\n",
    "trainPredictPlot[:,:]= np.nan\n",
    "trainPredictPlot[look_back:len(train_pred)+look_back,:] = train_pred\n",
    "\n",
    "testPredictPlot = np.empty_like(df)\n",
    "testPredictPlot[:,:] = np.nan\n",
    "testPredictPlot[len(train_pred)+(look_back*2)+1:len(df)-1,:] = test_pred\n",
    "\n",
    "plt.plot(scaler.inverse_transform(df))\n",
    "plt.plot(trainPredictPlot)\n",
    "plt.plot(testPredictPlot)\n",
    "plt.show()"
   ]
  },
  {
   "cell_type": "code",
   "execution_count": 13,
   "id": "e2930c7d-6724-4114-b768-a2dc97244775",
   "metadata": {},
   "outputs": [
    {
     "data": {
      "text/plain": [
       "array([[[0.0251221 ],\n",
       "        [0.02231684],\n",
       "        [0.02053851],\n",
       "        ...,\n",
       "        [0.03554164],\n",
       "        [0.04295554],\n",
       "        [0.04691296]],\n",
       "\n",
       "       [[0.02231684],\n",
       "        [0.02053851],\n",
       "        [0.02056356],\n",
       "        ...,\n",
       "        [0.04295554],\n",
       "        [0.04691296],\n",
       "        [0.04488416]],\n",
       "\n",
       "       [[0.02053851],\n",
       "        [0.02056356],\n",
       "        [0.02444584],\n",
       "        ...,\n",
       "        [0.04691296],\n",
       "        [0.04488416],\n",
       "        [0.03428929]],\n",
       "\n",
       "       ...,\n",
       "\n",
       "       [[0.13332498],\n",
       "        [0.14001252],\n",
       "        [0.14529743],\n",
       "        ...,\n",
       "        [0.10427051],\n",
       "        [0.10852849],\n",
       "        [0.10076393]],\n",
       "\n",
       "       [[0.14001252],\n",
       "        [0.14529743],\n",
       "        [0.1459737 ],\n",
       "        ...,\n",
       "        [0.10852849],\n",
       "        [0.10076393],\n",
       "        [0.11060739]],\n",
       "\n",
       "       [[0.14529743],\n",
       "        [0.1459737 ],\n",
       "        [0.14116468],\n",
       "        ...,\n",
       "        [0.10076393],\n",
       "        [0.11060739],\n",
       "        [0.11571697]]])"
      ]
     },
     "execution_count": 13,
     "metadata": {},
     "output_type": "execute_result"
    }
   ],
   "source": [
    "X_test"
   ]
  },
  {
   "cell_type": "code",
   "execution_count": null,
   "id": "78e1ae86-f272-4cf1-884f-5a2369defe71",
   "metadata": {},
   "outputs": [],
   "source": []
  }
 ],
 "metadata": {
  "kernelspec": {
   "display_name": "Python 3 (ipykernel)",
   "language": "python",
   "name": "python3"
  },
  "language_info": {
   "codemirror_mode": {
    "name": "ipython",
    "version": 3
   },
   "file_extension": ".py",
   "mimetype": "text/x-python",
   "name": "python",
   "nbconvert_exporter": "python",
   "pygments_lexer": "ipython3",
   "version": "3.9.13"
  }
 },
 "nbformat": 4,
 "nbformat_minor": 5
}

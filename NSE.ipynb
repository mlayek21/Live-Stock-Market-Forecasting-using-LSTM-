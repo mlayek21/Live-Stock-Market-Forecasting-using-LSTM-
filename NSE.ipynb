{
 "cells": [
  {
   "cell_type": "code",
   "execution_count": 1,
   "id": "9bcd71fb-a35e-44e7-95cd-682e673cbd5a",
   "metadata": {},
   "outputs": [],
   "source": [
    "import numpy as np\n",
    "import pandas as pd\n",
    "import matplotlib.pyplot as plt\n",
    "import pandas_datareader as pdr"
   ]
  },
  {
   "cell_type": "code",
   "execution_count": 2,
   "id": "35447ceb-dae7-477d-819e-c082fb038c4b",
   "metadata": {},
   "outputs": [
    {
     "data": {
      "text/plain": [
       "[<matplotlib.lines.Line2D at 0x140715310>]"
      ]
     },
     "execution_count": 2,
     "metadata": {},
     "output_type": "execute_result"
    },
    {
     "data": {
      "image/png": "[encoded data removed]",
      "text/plain": [
       "<Figure size 432x288 with 1 Axes>"
      ]
     },
     "metadata": {
      "needs_background": "light"
     },
     "output_type": "display_data"
    }
   ],
   "source": [
    "df1 = pd.read_csv('NSE.csv')\n",
    "df2 = df1['Close'].fillna(method='ffill')\n",
    "\n",
    "plt.plot(df2)\n"
   ]
  },
  {
   "cell_type": "code",
   "execution_count": 3,
   "id": "cb345a09-1d96-41ca-b192-c4718989ac85",
   "metadata": {},
   "outputs": [],
   "source": [
    "from sklearn.preprocessing import MinMaxScaler\n",
    "scaler = MinMaxScaler(feature_range = (0,1))\n",
    "df = scaler.fit_transform(np.array(df2).reshape(-1,1))"
   ]
  },
  {
   "cell_type": "code",
   "execution_count": 4,
   "id": "0a7fb68a-ae50-4199-9a8f-1c212a5ea122",
   "metadata": {},
   "outputs": [],
   "source": [
    "def create_dataset(df, timestep):\n",
    "    dataX,dataY = [],[]\n",
    "    for i in range (len(df)-timestep-1):\n",
    "        a = df[i:(i+timestep), 0]\n",
    "        dataX.append(a)\n",
    "        dataY.append(df[i+timestep,0])\n",
    "    return np.array(dataX), np.array(dataY)"
   ]
  },
  {
   "cell_type": "code",
   "execution_count": 5,
   "id": "08371035-023b-4e50-90b4-394f5df9f170",
   "metadata": {},
   "outputs": [
    {
     "data": {
      "text/plain": [
       "((1012, 100), (1012,), (23, 100), (23,))"
      ]
     },
     "execution_count": 5,
     "metadata": {},
     "output_type": "execute_result"
    }
   ],
   "source": [
    "## split the dataset into train and test split\n",
    "training_size = int(len(df)*0.90)\n",
    "test_size = len(df)-training_size\n",
    "train_data, test_data = df[0:training_size,:], df[training_size:len(df),:1]\n",
    "\n",
    "X_train, y_train = create_dataset(train_data, 100)\n",
    "X_test, y_test = create_dataset(test_data, 100)\n",
    "\n",
    "X_train.shape, y_train.shape, X_test.shape, y_test.shape"
   ]
  },
  {
   "cell_type": "code",
   "execution_count": 6,
   "id": "f5592201-cb89-4836-b6a9-e538b2e0d518",
   "metadata": {},
   "outputs": [],
   "source": [
    "X_train = X_train.reshape(X_train.shape[0],X_train.shape[1],1)\n",
    "X_test = X_test.reshape(X_test.shape[0],X_test.shape[1],1)"
   ]
  },
  {
   "cell_type": "code",
   "execution_count": 7,
   "id": "65a4b421-b419-4811-bbe6-b1f5be1e9713",
   "metadata": {},
   "outputs": [],
   "source": [
    "from tensorflow.keras.models import Sequential\n",
    "from tensorflow.keras.layers import Dense\n",
    "from tensorflow.keras.layers import LSTM"
   ]
  },
  {
   "cell_type": "code",
   "execution_count": 8,
   "id": "fb3db3a7-f758-4745-83c2-f69e06c81a0e",
   "metadata": {},
   "outputs": [
    {
     "name": "stdout",
     "output_type": "stream",
     "text": [
      "Metal device set to: Apple M1\n"
     ]
    },
    {
     "name": "stderr",
     "output_type": "stream",
     "text": [
      "2022-07-26 14:54:38.158054: I tensorflow/core/common_runtime/pluggable_device/pluggable_device_factory.cc:305] Could not identify NUMA node of platform GPU ID 0, defaulting to 0. Your kernel may not have been built with NUMA support.\n",
      "2022-07-26 14:54:38.158359: I tensorflow/core/common_runtime/pluggable_device/pluggable_device_factory.cc:271] Created TensorFlow device (/job:localhost/replica:0/task:0/device:GPU:0 with 0 MB memory) -> physical PluggableDevice (device: 0, name: METAL, pci bus id: <undefined>)\n"
     ]
    },
    {
     "name": "stdout",
     "output_type": "stream",
     "text": [
      "Model: \"sequential\"\n",
      "_________________________________________________________________\n",
      " Layer (type)                Output Shape              Param #   \n",
      "=================================================================\n",
      " lstm (LSTM)                 (None, 100, 50)           10400     \n",
      "                                                                 \n",
      " lstm_1 (LSTM)               (None, 100, 50)           20200     \n",
      "                                                                 \n",
      " lstm_2 (LSTM)               (None, 100, 50)           20200     \n",
      "                                                                 \n",
      " lstm_3 (LSTM)               (None, 50)                20200     \n",
      "                                                                 \n",
      " dense (Dense)               (None, 1)                 51        \n",
      "                                                                 \n",
      "=================================================================\n",
      "Total params: 71,051\n",
      "Trainable params: 71,051\n",
      "Non-trainable params: 0\n",
      "_________________________________________________________________\n"
     ]
    }
   ],
   "source": [
    "model = Sequential()\n",
    "model.add(LSTM(50,return_sequences=True,input_shape=(100,1)))\n",
    "model.add(LSTM(50,return_sequences=True))\n",
    "model.add(LSTM(50,return_sequences=True))\n",
    "model.add(LSTM(50))\n",
    "model.add(Dense(1))\n",
    "model.compile(loss='mean_squared_error', optimizer='adam')\n",
    "\n",
    "model.summary()"
   ]
  },
  {
   "cell_type": "code",
   "execution_count": 9,
   "id": "516d8177-3f76-4730-84c0-f3c0bea2831d",
   "metadata": {
    "scrolled": true,
    "tags": []
   },
   "outputs": [
    {
     "name": "stdout",
     "output_type": "stream",
     "text": [
      "Epoch 1/200\n"
     ]
    },
    {
     "name": "stderr",
     "output_type": "stream",
     "text": [
      "2022-07-26 14:54:39.591524: W tensorflow/core/platform/profile_utils/cpu_utils.cc:128] Failed to get CPU frequency: 0 Hz\n",
      "2022-07-26 14:54:41.770758: I tensorflow/core/grappler/optimizers/custom_graph_optimizer_registry.cc:113] Plugin optimizer for device_type GPU is enabled.\n",
      "2022-07-26 14:54:42.138994: I tensorflow/core/grappler/optimizers/custom_graph_optimizer_registry.cc:113] Plugin optimizer for device_type GPU is enabled.\n",
      "2022-07-26 14:54:43.343988: I tensorflow/core/grappler/optimizers/custom_graph_optimizer_registry.cc:113] Plugin optimizer for device_type GPU is enabled.\n",
      "2022-07-26 14:54:43.517045: I tensorflow/core/grappler/optimizers/custom_graph_optimizer_registry.cc:113] Plugin optimizer for device_type GPU is enabled.\n",
      "2022-07-26 14:54:43.628894: I tensorflow/core/grappler/optimizers/custom_graph_optimizer_registry.cc:113] Plugin optimizer for device_type GPU is enabled.\n",
      "2022-07-26 14:54:44.625247: I tensorflow/core/grappler/optimizers/custom_graph_optimizer_registry.cc:113] Plugin optimizer for device_type GPU is enabled.\n",
      "2022-07-26 14:54:45.561006: I tensorflow/core/grappler/optimizers/custom_graph_optimizer_registry.cc:113] Plugin optimizer for device_type GPU is enabled.\n",
      "2022-07-26 14:54:45.884194: I tensorflow/core/grappler/optimizers/custom_graph_optimizer_registry.cc:113] Plugin optimizer for device_type GPU is enabled.\n",
      "2022-07-26 14:54:46.081720: I tensorflow/core/grappler/optimizers/custom_graph_optimizer_registry.cc:113] Plugin optimizer for device_type GPU is enabled.\n"
     ]
    },
    {
     "name": "stdout",
     "output_type": "stream",
     "text": [
      "16/16 [==============================] - ETA: 0s - loss: 0.0518"
     ]
    },
    {
     "name": "stderr",
     "output_type": "stream",
     "text": [
      "2022-07-26 14:54:49.052297: I tensorflow/core/grappler/optimizers/custom_graph_optimizer_registry.cc:113] Plugin optimizer for device_type GPU is enabled.\n",
      "2022-07-26 14:54:49.168528: I tensorflow/core/grappler/optimizers/custom_graph_optimizer_registry.cc:113] Plugin optimizer for device_type GPU is enabled.\n",
      "2022-07-26 14:54:49.270778: I tensorflow/core/grappler/optimizers/custom_graph_optimizer_registry.cc:113] Plugin optimizer for device_type GPU is enabled.\n",
      "2022-07-26 14:54:49.373706: I tensorflow/core/grappler/optimizers/custom_graph_optimizer_registry.cc:113] Plugin optimizer for device_type GPU is enabled.\n"
     ]
    },
    {
     "name": "stdout",
     "output_type": "stream",
     "text": [
      "16/16 [==============================] - 10s 206ms/step - loss: 0.0518 - val_loss: 0.0213\n",
      "Epoch 2/200\n",
      " 1/16 [>.............................] - ETA: 1s - loss: 0.0103"
     ]
    },
    {
     "name": "stderr",
     "output_type": "stream",
     "text": [
      "2022-07-26 14:54:49.479598: I tensorflow/core/grappler/optimizers/custom_graph_optimizer_registry.cc:113] Plugin optimizer for device_type GPU is enabled.\n"
     ]
    },
    {
     "name": "stdout",
     "output_type": "stream",
     "text": [
      "16/16 [==============================] - 1s 71ms/step - loss: 0.0086 - val_loss: 0.0014\n",
      "Epoch 3/200\n",
      "16/16 [==============================] - 1s 69ms/step - loss: 0.0031 - val_loss: 0.0065\n",
      "Epoch 4/200\n",
      "16/16 [==============================] - 1s 70ms/step - loss: 0.0025 - val_loss: 0.0027\n",
      "Epoch 5/200\n",
      "16/16 [==============================] - 1s 70ms/step - loss: 0.0023 - val_loss: 0.0019\n",
      "Epoch 6/200\n",
      "16/16 [==============================] - 1s 70ms/step - loss: 0.0023 - val_loss: 0.0033\n",
      "Epoch 7/200\n",
      "16/16 [==============================] - 1s 70ms/step - loss: 0.0021 - val_loss: 0.0018\n",
      "Epoch 8/200\n",
      "16/16 [==============================] - 1s 70ms/step - loss: 0.0020 - val_loss: 0.0018\n",
      "Epoch 9/200\n",
      "16/16 [==============================] - 1s 69ms/step - loss: 0.0019 - val_loss: 0.0018\n",
      "Epoch 10/200\n",
      "16/16 [==============================] - 1s 71ms/step - loss: 0.0018 - val_loss: 0.0016\n",
      "Epoch 11/200\n",
      "16/16 [==============================] - 1s 70ms/step - loss: 0.0017 - val_loss: 0.0015\n",
      "Epoch 12/200\n",
      "16/16 [==============================] - 1s 70ms/step - loss: 0.0017 - val_loss: 0.0019\n",
      "Epoch 13/200\n",
      "16/16 [==============================] - 1s 70ms/step - loss: 0.0016 - val_loss: 0.0016\n",
      "Epoch 14/200\n",
      "16/16 [==============================] - 1s 70ms/step - loss: 0.0015 - val_loss: 0.0020\n",
      "Epoch 15/200\n",
      "16/16 [==============================] - 1s 71ms/step - loss: 0.0015 - val_loss: 0.0019\n",
      "Epoch 16/200\n",
      "16/16 [==============================] - 1s 71ms/step - loss: 0.0014 - val_loss: 0.0042\n",
      "Epoch 17/200\n",
      "16/16 [==============================] - 1s 70ms/step - loss: 0.0017 - val_loss: 0.0019\n",
      "Epoch 18/200\n",
      "16/16 [==============================] - 1s 70ms/step - loss: 0.0014 - val_loss: 0.0021\n",
      "Epoch 19/200\n",
      "16/16 [==============================] - 1s 70ms/step - loss: 0.0012 - val_loss: 0.0020\n",
      "Epoch 20/200\n",
      "16/16 [==============================] - 1s 70ms/step - loss: 0.0012 - val_loss: 0.0023\n",
      "Epoch 21/200\n",
      "16/16 [==============================] - 1s 71ms/step - loss: 0.0011 - val_loss: 0.0025\n",
      "Epoch 22/200\n",
      "16/16 [==============================] - 1s 71ms/step - loss: 0.0011 - val_loss: 0.0022\n",
      "Epoch 23/200\n",
      "16/16 [==============================] - 1s 72ms/step - loss: 0.0011 - val_loss: 0.0022\n",
      "Epoch 24/200\n",
      "16/16 [==============================] - 1s 71ms/step - loss: 0.0011 - val_loss: 0.0025\n",
      "Epoch 25/200\n",
      "16/16 [==============================] - 1s 70ms/step - loss: 0.0011 - val_loss: 0.0021\n",
      "Epoch 26/200\n",
      "16/16 [==============================] - 1s 71ms/step - loss: 0.0010 - val_loss: 0.0024\n",
      "Epoch 27/200\n",
      "16/16 [==============================] - 1s 70ms/step - loss: 0.0010 - val_loss: 0.0022\n",
      "Epoch 28/200\n",
      "16/16 [==============================] - 1s 71ms/step - loss: 0.0012 - val_loss: 0.0021\n",
      "Epoch 29/200\n",
      "16/16 [==============================] - 1s 71ms/step - loss: 0.0014 - val_loss: 0.0045\n",
      "Epoch 30/200\n",
      "16/16 [==============================] - 1s 71ms/step - loss: 0.0012 - val_loss: 0.0020\n",
      "Epoch 31/200\n",
      "16/16 [==============================] - 1s 71ms/step - loss: 0.0011 - val_loss: 0.0022\n",
      "Epoch 32/200\n",
      "16/16 [==============================] - 1s 72ms/step - loss: 0.0010 - val_loss: 0.0018\n",
      "Epoch 33/200\n",
      "16/16 [==============================] - 1s 71ms/step - loss: 9.7201e-04 - val_loss: 0.0020\n",
      "Epoch 34/200\n",
      "16/16 [==============================] - 1s 70ms/step - loss: 9.6266e-04 - val_loss: 0.0025\n",
      "Epoch 35/200\n",
      "16/16 [==============================] - 1s 71ms/step - loss: 0.0011 - val_loss: 0.0020\n",
      "Epoch 36/200\n",
      "16/16 [==============================] - 1s 70ms/step - loss: 0.0012 - val_loss: 0.0020\n",
      "Epoch 37/200\n",
      "16/16 [==============================] - 1s 71ms/step - loss: 0.0010 - val_loss: 0.0016\n",
      "Epoch 38/200\n",
      "16/16 [==============================] - 1s 70ms/step - loss: 9.4647e-04 - val_loss: 0.0018\n",
      "Epoch 39/200\n",
      "16/16 [==============================] - 1s 73ms/step - loss: 9.3711e-04 - val_loss: 0.0014\n",
      "Epoch 40/200\n",
      "16/16 [==============================] - 1s 71ms/step - loss: 9.3879e-04 - val_loss: 0.0018\n",
      "Epoch 41/200\n",
      "16/16 [==============================] - 1s 71ms/step - loss: 9.8431e-04 - val_loss: 0.0012\n",
      "Epoch 42/200\n",
      "16/16 [==============================] - 1s 71ms/step - loss: 9.3862e-04 - val_loss: 0.0018\n",
      "Epoch 43/200\n",
      "16/16 [==============================] - 1s 71ms/step - loss: 8.9159e-04 - val_loss: 0.0012\n",
      "Epoch 44/200\n",
      "16/16 [==============================] - 1s 71ms/step - loss: 8.9390e-04 - val_loss: 0.0020\n",
      "Epoch 45/200\n",
      "16/16 [==============================] - 1s 71ms/step - loss: 8.5143e-04 - val_loss: 0.0011\n",
      "Epoch 46/200\n",
      "16/16 [==============================] - 1s 71ms/step - loss: 9.0387e-04 - val_loss: 0.0028\n",
      "Epoch 47/200\n",
      "16/16 [==============================] - 1s 71ms/step - loss: 0.0011 - val_loss: 9.5537e-04\n",
      "Epoch 48/200\n",
      "16/16 [==============================] - 1s 71ms/step - loss: 9.1855e-04 - val_loss: 9.2767e-04\n",
      "Epoch 49/200\n",
      "16/16 [==============================] - 1s 72ms/step - loss: 8.0230e-04 - val_loss: 8.7826e-04\n",
      "Epoch 50/200\n",
      "16/16 [==============================] - 1s 72ms/step - loss: 8.1735e-04 - val_loss: 0.0012\n",
      "Epoch 51/200\n",
      "16/16 [==============================] - 1s 71ms/step - loss: 8.0841e-04 - val_loss: 8.3208e-04\n",
      "Epoch 52/200\n",
      "16/16 [==============================] - 1s 72ms/step - loss: 8.2608e-04 - val_loss: 8.7758e-04\n",
      "Epoch 53/200\n",
      "16/16 [==============================] - 1s 72ms/step - loss: 7.9826e-04 - val_loss: 8.1597e-04\n",
      "Epoch 54/200\n",
      "16/16 [==============================] - 1s 72ms/step - loss: 7.7461e-04 - val_loss: 7.2127e-04\n",
      "Epoch 55/200\n",
      "16/16 [==============================] - 1s 71ms/step - loss: 8.5541e-04 - val_loss: 8.2939e-04\n",
      "Epoch 56/200\n",
      "16/16 [==============================] - 1s 71ms/step - loss: 7.9768e-04 - val_loss: 7.4802e-04\n",
      "Epoch 57/200\n",
      "16/16 [==============================] - 1s 72ms/step - loss: 7.5248e-04 - val_loss: 6.4088e-04\n",
      "Epoch 58/200\n",
      "16/16 [==============================] - 1s 72ms/step - loss: 7.1477e-04 - val_loss: 0.0011\n",
      "Epoch 59/200\n",
      "16/16 [==============================] - 1s 71ms/step - loss: 8.7239e-04 - val_loss: 8.2718e-04\n",
      "Epoch 60/200\n",
      "16/16 [==============================] - 1s 71ms/step - loss: 8.4507e-04 - val_loss: 0.0014\n",
      "Epoch 61/200\n",
      "16/16 [==============================] - 1s 71ms/step - loss: 8.3930e-04 - val_loss: 7.4601e-04\n",
      "Epoch 62/200\n",
      "16/16 [==============================] - 1s 72ms/step - loss: 7.8068e-04 - val_loss: 7.4370e-04\n",
      "Epoch 63/200\n",
      "16/16 [==============================] - 1s 72ms/step - loss: 7.2629e-04 - val_loss: 5.0951e-04\n",
      "Epoch 64/200\n",
      "16/16 [==============================] - 1s 71ms/step - loss: 7.1802e-04 - val_loss: 6.5714e-04\n",
      "Epoch 65/200\n",
      "16/16 [==============================] - 1s 72ms/step - loss: 6.8924e-04 - val_loss: 4.8254e-04\n",
      "Epoch 66/200\n",
      "16/16 [==============================] - 1s 73ms/step - loss: 6.5241e-04 - val_loss: 4.4925e-04\n",
      "Epoch 67/200\n",
      "16/16 [==============================] - 1s 72ms/step - loss: 6.9883e-04 - val_loss: 4.7467e-04\n",
      "Epoch 68/200\n",
      "16/16 [==============================] - 1s 72ms/step - loss: 6.4091e-04 - val_loss: 8.9438e-04\n",
      "Epoch 69/200\n",
      "16/16 [==============================] - 1s 74ms/step - loss: 6.3361e-04 - val_loss: 4.5997e-04\n",
      "Epoch 70/200\n",
      "16/16 [==============================] - 1s 73ms/step - loss: 6.5574e-04 - val_loss: 3.4812e-04\n",
      "Epoch 71/200\n",
      "16/16 [==============================] - 1s 72ms/step - loss: 6.1656e-04 - val_loss: 4.2556e-04\n",
      "Epoch 72/200\n",
      "16/16 [==============================] - 1s 72ms/step - loss: 5.9902e-04 - val_loss: 4.5598e-04\n",
      "Epoch 73/200\n",
      "16/16 [==============================] - 1s 71ms/step - loss: 6.1676e-04 - val_loss: 0.0010\n",
      "Epoch 74/200\n",
      "16/16 [==============================] - 1s 71ms/step - loss: 7.5416e-04 - val_loss: 3.3810e-04\n",
      "Epoch 75/200\n",
      "16/16 [==============================] - 1s 72ms/step - loss: 6.1233e-04 - val_loss: 6.0283e-04\n",
      "Epoch 76/200\n",
      "16/16 [==============================] - 1s 72ms/step - loss: 6.2978e-04 - val_loss: 5.2143e-04\n",
      "Epoch 77/200\n",
      "16/16 [==============================] - 1s 72ms/step - loss: 5.5835e-04 - val_loss: 3.3287e-04\n",
      "Epoch 78/200\n",
      "16/16 [==============================] - 1s 72ms/step - loss: 5.4680e-04 - val_loss: 5.4136e-04\n",
      "Epoch 79/200\n",
      "16/16 [==============================] - 1s 72ms/step - loss: 5.9306e-04 - val_loss: 0.0014\n",
      "Epoch 80/200\n",
      "16/16 [==============================] - 1s 71ms/step - loss: 6.5978e-04 - val_loss: 2.8831e-04\n",
      "Epoch 81/200\n",
      "16/16 [==============================] - 1s 72ms/step - loss: 5.4403e-04 - val_loss: 3.3074e-04\n",
      "Epoch 82/200\n",
      "16/16 [==============================] - 1s 72ms/step - loss: 5.7765e-04 - val_loss: 3.1792e-04\n",
      "Epoch 83/200\n",
      "16/16 [==============================] - 1s 73ms/step - loss: 4.8072e-04 - val_loss: 4.0850e-04\n",
      "Epoch 84/200\n",
      "16/16 [==============================] - 1s 73ms/step - loss: 4.9448e-04 - val_loss: 4.9996e-04\n",
      "Epoch 85/200\n",
      "16/16 [==============================] - 1s 72ms/step - loss: 4.6415e-04 - val_loss: 8.2425e-04\n",
      "Epoch 86/200\n",
      "16/16 [==============================] - 1s 72ms/step - loss: 4.8426e-04 - val_loss: 6.9603e-04\n",
      "Epoch 87/200\n",
      "16/16 [==============================] - 1s 72ms/step - loss: 4.4499e-04 - val_loss: 4.8763e-04\n",
      "Epoch 88/200\n",
      "16/16 [==============================] - 1s 72ms/step - loss: 4.4205e-04 - val_loss: 5.5134e-04\n",
      "Epoch 89/200\n",
      "16/16 [==============================] - 1s 72ms/step - loss: 4.2933e-04 - val_loss: 8.4546e-04\n",
      "Epoch 90/200\n",
      "16/16 [==============================] - 1s 72ms/step - loss: 4.1895e-04 - val_loss: 0.0011\n",
      "Epoch 91/200\n",
      "16/16 [==============================] - 1s 72ms/step - loss: 4.0563e-04 - val_loss: 7.5303e-04\n",
      "Epoch 92/200\n",
      "16/16 [==============================] - 1s 72ms/step - loss: 4.6071e-04 - val_loss: 5.9923e-04\n",
      "Epoch 93/200\n",
      "16/16 [==============================] - 1s 72ms/step - loss: 4.4620e-04 - val_loss: 7.5768e-04\n",
      "Epoch 94/200\n",
      "16/16 [==============================] - 1s 72ms/step - loss: 4.1518e-04 - val_loss: 6.4160e-04\n",
      "Epoch 95/200\n",
      "16/16 [==============================] - 1s 73ms/step - loss: 4.6589e-04 - val_loss: 7.4063e-04\n",
      "Epoch 96/200\n",
      "16/16 [==============================] - 1s 72ms/step - loss: 4.1603e-04 - val_loss: 5.6778e-04\n",
      "Epoch 97/200\n",
      "16/16 [==============================] - 1s 72ms/step - loss: 4.3629e-04 - val_loss: 9.4840e-04\n",
      "Epoch 98/200\n",
      "16/16 [==============================] - 1s 73ms/step - loss: 4.3195e-04 - val_loss: 9.3362e-04\n",
      "Epoch 99/200\n",
      "16/16 [==============================] - 1s 73ms/step - loss: 4.1303e-04 - val_loss: 6.1358e-04\n",
      "Epoch 100/200\n",
      "16/16 [==============================] - 1s 72ms/step - loss: 4.0040e-04 - val_loss: 8.7275e-04\n",
      "Epoch 101/200\n",
      "16/16 [==============================] - 1s 74ms/step - loss: 4.2874e-04 - val_loss: 0.0016\n",
      "Epoch 102/200\n",
      "16/16 [==============================] - 1s 73ms/step - loss: 4.1694e-04 - val_loss: 8.9857e-04\n",
      "Epoch 103/200\n",
      "16/16 [==============================] - 1s 73ms/step - loss: 3.9248e-04 - val_loss: 5.4899e-04\n",
      "Epoch 104/200\n",
      "16/16 [==============================] - 1s 73ms/step - loss: 4.0033e-04 - val_loss: 5.3986e-04\n",
      "Epoch 105/200\n",
      "16/16 [==============================] - 1s 73ms/step - loss: 3.6328e-04 - val_loss: 9.8411e-04\n",
      "Epoch 106/200\n",
      "16/16 [==============================] - 1s 73ms/step - loss: 3.8495e-04 - val_loss: 0.0013\n",
      "Epoch 107/200\n",
      "16/16 [==============================] - 1s 73ms/step - loss: 4.7245e-04 - val_loss: 0.0027\n",
      "Epoch 108/200\n",
      "16/16 [==============================] - 1s 74ms/step - loss: 4.2059e-04 - val_loss: 9.2865e-04\n",
      "Epoch 109/200\n",
      "16/16 [==============================] - 1s 73ms/step - loss: 4.0142e-04 - val_loss: 7.4496e-04\n",
      "Epoch 110/200\n",
      "16/16 [==============================] - 1s 74ms/step - loss: 3.7051e-04 - val_loss: 0.0012\n",
      "Epoch 111/200\n",
      "16/16 [==============================] - 1s 79ms/step - loss: 3.9178e-04 - val_loss: 6.9442e-04\n",
      "Epoch 112/200\n",
      "16/16 [==============================] - 1s 74ms/step - loss: 3.5552e-04 - val_loss: 5.6499e-04\n",
      "Epoch 113/200\n",
      "16/16 [==============================] - 1s 73ms/step - loss: 3.6773e-04 - val_loss: 5.8406e-04\n",
      "Epoch 114/200\n",
      "16/16 [==============================] - 1s 73ms/step - loss: 3.7035e-04 - val_loss: 7.8439e-04\n",
      "Epoch 115/200\n",
      "16/16 [==============================] - 1s 74ms/step - loss: 4.5067e-04 - val_loss: 0.0014\n",
      "Epoch 116/200\n",
      "16/16 [==============================] - 1s 74ms/step - loss: 5.4808e-04 - val_loss: 0.0012\n",
      "Epoch 117/200\n",
      "16/16 [==============================] - 10s 648ms/step - loss: 3.9098e-04 - val_loss: 0.0012\n",
      "Epoch 118/200\n",
      "16/16 [==============================] - 1s 76ms/step - loss: 4.2396e-04 - val_loss: 0.0014\n",
      "Epoch 119/200\n",
      "16/16 [==============================] - 1s 81ms/step - loss: 3.9538e-04 - val_loss: 9.1276e-04\n",
      "Epoch 120/200\n",
      "16/16 [==============================] - 1s 85ms/step - loss: 3.4493e-04 - val_loss: 4.3742e-04\n",
      "Epoch 121/200\n",
      "16/16 [==============================] - 1s 85ms/step - loss: 4.0960e-04 - val_loss: 4.5464e-04\n",
      "Epoch 122/200\n",
      "16/16 [==============================] - 1s 75ms/step - loss: 3.6553e-04 - val_loss: 4.2250e-04\n",
      "Epoch 123/200\n",
      "16/16 [==============================] - 1s 73ms/step - loss: 3.8682e-04 - val_loss: 4.8651e-04\n",
      "Epoch 124/200\n",
      "16/16 [==============================] - 1s 75ms/step - loss: 3.4833e-04 - val_loss: 4.2876e-04\n",
      "Epoch 125/200\n",
      "16/16 [==============================] - 1s 72ms/step - loss: 4.1901e-04 - val_loss: 8.3588e-04\n",
      "Epoch 126/200\n",
      "16/16 [==============================] - 1s 75ms/step - loss: 5.1304e-04 - val_loss: 4.1112e-04\n",
      "Epoch 127/200\n",
      "16/16 [==============================] - 1s 72ms/step - loss: 4.5856e-04 - val_loss: 6.0990e-04\n",
      "Epoch 128/200\n",
      "16/16 [==============================] - 1s 74ms/step - loss: 3.7187e-04 - val_loss: 8.6320e-04\n",
      "Epoch 129/200\n",
      "16/16 [==============================] - 1s 72ms/step - loss: 3.1063e-04 - val_loss: 5.1785e-04\n",
      "Epoch 130/200\n",
      "16/16 [==============================] - 1s 72ms/step - loss: 3.1975e-04 - val_loss: 4.2648e-04\n",
      "Epoch 131/200\n",
      "16/16 [==============================] - 1s 72ms/step - loss: 3.1989e-04 - val_loss: 4.5451e-04\n",
      "Epoch 132/200\n",
      "16/16 [==============================] - 1s 78ms/step - loss: 3.1152e-04 - val_loss: 4.5980e-04\n",
      "Epoch 133/200\n",
      "16/16 [==============================] - 1s 83ms/step - loss: 3.2999e-04 - val_loss: 5.6386e-04\n",
      "Epoch 134/200\n",
      "16/16 [==============================] - 1s 73ms/step - loss: 2.9314e-04 - val_loss: 0.0012\n",
      "Epoch 135/200\n",
      "16/16 [==============================] - 1s 78ms/step - loss: 3.2635e-04 - val_loss: 6.7233e-04\n",
      "Epoch 136/200\n",
      "16/16 [==============================] - 1s 83ms/step - loss: 2.9267e-04 - val_loss: 4.9793e-04\n",
      "Epoch 137/200\n",
      "16/16 [==============================] - 1s 76ms/step - loss: 2.9908e-04 - val_loss: 4.0247e-04\n",
      "Epoch 138/200\n",
      "16/16 [==============================] - 1s 77ms/step - loss: 3.0175e-04 - val_loss: 4.4336e-04\n",
      "Epoch 139/200\n",
      "16/16 [==============================] - 1s 74ms/step - loss: 2.9030e-04 - val_loss: 8.1370e-04\n",
      "Epoch 140/200\n",
      "16/16 [==============================] - 1s 73ms/step - loss: 3.1823e-04 - val_loss: 6.1010e-04\n",
      "Epoch 141/200\n",
      "16/16 [==============================] - 1s 72ms/step - loss: 3.2930e-04 - val_loss: 0.0018\n",
      "Epoch 142/200\n",
      "16/16 [==============================] - 1s 71ms/step - loss: 3.6783e-04 - val_loss: 0.0010\n",
      "Epoch 143/200\n",
      "16/16 [==============================] - 1s 72ms/step - loss: 2.9962e-04 - val_loss: 8.1623e-04\n",
      "Epoch 144/200\n",
      "16/16 [==============================] - 1s 74ms/step - loss: 2.6545e-04 - val_loss: 3.7702e-04\n",
      "Epoch 145/200\n",
      "16/16 [==============================] - 1s 76ms/step - loss: 2.7622e-04 - val_loss: 3.9350e-04\n",
      "Epoch 146/200\n",
      "16/16 [==============================] - 1s 72ms/step - loss: 2.6521e-04 - val_loss: 4.9440e-04\n",
      "Epoch 147/200\n",
      "16/16 [==============================] - 1s 73ms/step - loss: 2.6594e-04 - val_loss: 4.8058e-04\n",
      "Epoch 148/200\n",
      "16/16 [==============================] - 1s 72ms/step - loss: 3.0247e-04 - val_loss: 0.0018\n",
      "Epoch 149/200\n",
      "16/16 [==============================] - 1s 72ms/step - loss: 2.7704e-04 - val_loss: 0.0012\n",
      "Epoch 150/200\n",
      "16/16 [==============================] - 1s 74ms/step - loss: 2.6100e-04 - val_loss: 0.0013\n",
      "Epoch 151/200\n",
      "16/16 [==============================] - 1s 72ms/step - loss: 2.6587e-04 - val_loss: 5.8231e-04\n",
      "Epoch 152/200\n",
      "16/16 [==============================] - 1s 73ms/step - loss: 2.4313e-04 - val_loss: 3.8789e-04\n",
      "Epoch 153/200\n",
      "16/16 [==============================] - 1s 72ms/step - loss: 2.4052e-04 - val_loss: 8.4813e-04\n",
      "Epoch 154/200\n",
      "16/16 [==============================] - 1s 71ms/step - loss: 2.6302e-04 - val_loss: 3.7439e-04\n",
      "Epoch 155/200\n",
      "16/16 [==============================] - 1s 72ms/step - loss: 2.5525e-04 - val_loss: 4.6068e-04\n",
      "Epoch 156/200\n",
      "16/16 [==============================] - 1s 73ms/step - loss: 2.5596e-04 - val_loss: 4.5847e-04\n",
      "Epoch 157/200\n",
      "16/16 [==============================] - 1s 74ms/step - loss: 2.7171e-04 - val_loss: 6.5319e-04\n",
      "Epoch 158/200\n",
      "16/16 [==============================] - 1s 73ms/step - loss: 2.5657e-04 - val_loss: 3.5736e-04\n",
      "Epoch 159/200\n",
      "16/16 [==============================] - 1s 73ms/step - loss: 2.4593e-04 - val_loss: 6.0634e-04\n",
      "Epoch 160/200\n",
      "16/16 [==============================] - 1s 72ms/step - loss: 2.1446e-04 - val_loss: 3.3986e-04\n",
      "Epoch 161/200\n",
      "16/16 [==============================] - 1s 73ms/step - loss: 2.6119e-04 - val_loss: 4.3542e-04\n",
      "Epoch 162/200\n",
      "16/16 [==============================] - 1s 72ms/step - loss: 3.2939e-04 - val_loss: 7.6506e-04\n",
      "Epoch 163/200\n",
      "16/16 [==============================] - 1s 72ms/step - loss: 2.2172e-04 - val_loss: 3.5880e-04\n",
      "Epoch 164/200\n",
      "16/16 [==============================] - 1s 73ms/step - loss: 2.2246e-04 - val_loss: 8.0908e-04\n",
      "Epoch 165/200\n",
      "16/16 [==============================] - 1s 72ms/step - loss: 2.8060e-04 - val_loss: 0.0014\n",
      "Epoch 166/200\n",
      "16/16 [==============================] - 1s 74ms/step - loss: 2.1352e-04 - val_loss: 0.0011\n",
      "Epoch 167/200\n",
      "16/16 [==============================] - 1s 79ms/step - loss: 2.1607e-04 - val_loss: 4.6532e-04\n",
      "Epoch 168/200\n",
      "16/16 [==============================] - 1s 78ms/step - loss: 2.0771e-04 - val_loss: 3.4864e-04\n",
      "Epoch 169/200\n",
      "16/16 [==============================] - 1s 88ms/step - loss: 2.1616e-04 - val_loss: 3.9190e-04\n",
      "Epoch 170/200\n",
      "16/16 [==============================] - 1s 84ms/step - loss: 2.0368e-04 - val_loss: 4.2774e-04\n",
      "Epoch 171/200\n",
      "16/16 [==============================] - 1s 77ms/step - loss: 2.0799e-04 - val_loss: 5.8748e-04\n",
      "Epoch 172/200\n",
      "16/16 [==============================] - 1s 74ms/step - loss: 1.9215e-04 - val_loss: 4.7722e-04\n",
      "Epoch 173/200\n",
      "16/16 [==============================] - 1s 73ms/step - loss: 1.9871e-04 - val_loss: 3.7367e-04\n",
      "Epoch 174/200\n",
      "16/16 [==============================] - 1s 72ms/step - loss: 2.1865e-04 - val_loss: 2.7135e-04\n",
      "Epoch 175/200\n",
      "16/16 [==============================] - 1s 82ms/step - loss: 2.0233e-04 - val_loss: 3.6933e-04\n",
      "Epoch 176/200\n",
      "16/16 [==============================] - 1s 89ms/step - loss: 2.1401e-04 - val_loss: 3.9325e-04\n",
      "Epoch 177/200\n",
      "16/16 [==============================] - 1s 80ms/step - loss: 1.9084e-04 - val_loss: 6.2234e-04\n",
      "Epoch 178/200\n",
      "16/16 [==============================] - 1s 74ms/step - loss: 1.9654e-04 - val_loss: 3.8891e-04\n",
      "Epoch 179/200\n",
      "16/16 [==============================] - 1s 73ms/step - loss: 2.3049e-04 - val_loss: 6.1743e-04\n",
      "Epoch 180/200\n",
      "16/16 [==============================] - 1s 75ms/step - loss: 1.8128e-04 - val_loss: 4.5482e-04\n",
      "Epoch 181/200\n",
      "16/16 [==============================] - 1s 89ms/step - loss: 1.9404e-04 - val_loss: 3.5597e-04\n",
      "Epoch 182/200\n",
      "16/16 [==============================] - 1s 88ms/step - loss: 1.7964e-04 - val_loss: 3.5436e-04\n",
      "Epoch 183/200\n",
      "16/16 [==============================] - 1s 85ms/step - loss: 1.8274e-04 - val_loss: 4.3783e-04\n",
      "Epoch 184/200\n",
      "16/16 [==============================] - 1s 74ms/step - loss: 1.6922e-04 - val_loss: 3.8200e-04\n",
      "Epoch 185/200\n",
      "16/16 [==============================] - 1s 83ms/step - loss: 1.7559e-04 - val_loss: 0.0011\n",
      "Epoch 186/200\n",
      "16/16 [==============================] - 1s 78ms/step - loss: 2.0570e-04 - val_loss: 7.8683e-04\n",
      "Epoch 187/200\n",
      "16/16 [==============================] - 1s 73ms/step - loss: 1.7937e-04 - val_loss: 2.6991e-04\n",
      "Epoch 188/200\n",
      "16/16 [==============================] - 1s 82ms/step - loss: 2.0061e-04 - val_loss: 5.2890e-04\n",
      "Epoch 189/200\n",
      "16/16 [==============================] - 1s 74ms/step - loss: 1.7146e-04 - val_loss: 6.4524e-04\n",
      "Epoch 190/200\n",
      "16/16 [==============================] - 1s 79ms/step - loss: 1.6811e-04 - val_loss: 4.9699e-04\n",
      "Epoch 191/200\n",
      "16/16 [==============================] - 1s 76ms/step - loss: 1.9981e-04 - val_loss: 3.9660e-04\n",
      "Epoch 192/200\n",
      "16/16 [==============================] - 1s 74ms/step - loss: 1.7597e-04 - val_loss: 6.0148e-04\n",
      "Epoch 193/200\n",
      "16/16 [==============================] - 1s 78ms/step - loss: 1.8304e-04 - val_loss: 3.6449e-04\n",
      "Epoch 194/200\n",
      "16/16 [==============================] - 1s 83ms/step - loss: 1.6459e-04 - val_loss: 2.7035e-04\n",
      "Epoch 195/200\n",
      "16/16 [==============================] - 1s 83ms/step - loss: 1.7638e-04 - val_loss: 4.1042e-04\n",
      "Epoch 196/200\n",
      "16/16 [==============================] - 1s 83ms/step - loss: 1.9114e-04 - val_loss: 4.6505e-04\n",
      "Epoch 197/200\n",
      "16/16 [==============================] - 1s 87ms/step - loss: 1.9569e-04 - val_loss: 4.0315e-04\n",
      "Epoch 198/200\n",
      "16/16 [==============================] - 1s 83ms/step - loss: 2.1250e-04 - val_loss: 5.9511e-04\n",
      "Epoch 199/200\n",
      "16/16 [==============================] - 1s 87ms/step - loss: 1.9507e-04 - val_loss: 3.0922e-04\n",
      "Epoch 200/200\n",
      "16/16 [==============================] - 1s 85ms/step - loss: 2.0345e-04 - val_loss: 2.9511e-04\n"
     ]
    },
    {
     "data": {
      "text/plain": [
       "<keras.callbacks.History at 0x1549c2e50>"
      ]
     },
     "execution_count": 9,
     "metadata": {},
     "output_type": "execute_result"
    }
   ],
   "source": [
    "model.fit(X_train,y_train,validation_data=(X_test,y_test),epochs=200,batch_size=64,verbose=1)"
   ]
  },
  {
   "cell_type": "code",
   "execution_count": 10,
   "id": "a6dc6614-e210-4ffc-a0d6-5dc6940ded69",
   "metadata": {},
   "outputs": [
    {
     "name": "stderr",
     "output_type": "stream",
     "text": [
      "2022-07-26 14:58:53.480945: I tensorflow/core/grappler/optimizers/custom_graph_optimizer_registry.cc:113] Plugin optimizer for device_type GPU is enabled.\n",
      "2022-07-26 14:58:53.605671: I tensorflow/core/grappler/optimizers/custom_graph_optimizer_registry.cc:113] Plugin optimizer for device_type GPU is enabled.\n",
      "2022-07-26 14:58:53.723211: I tensorflow/core/grappler/optimizers/custom_graph_optimizer_registry.cc:113] Plugin optimizer for device_type GPU is enabled.\n",
      "2022-07-26 14:58:53.838436: I tensorflow/core/grappler/optimizers/custom_graph_optimizer_registry.cc:113] Plugin optimizer for device_type GPU is enabled.\n"
     ]
    },
    {
     "name": "stdout",
     "output_type": "stream",
     "text": [
      " 1/32 [..............................] - ETA: 34s"
     ]
    },
    {
     "name": "stderr",
     "output_type": "stream",
     "text": [
      "2022-07-26 14:58:53.949508: I tensorflow/core/grappler/optimizers/custom_graph_optimizer_registry.cc:113] Plugin optimizer for device_type GPU is enabled.\n"
     ]
    },
    {
     "name": "stdout",
     "output_type": "stream",
     "text": [
      "32/32 [==============================] - 3s 54ms/step\n",
      "1/1 [==============================] - 0s 365ms/step\n"
     ]
    }
   ],
   "source": [
    "train_pred = model.predict(X_train)\n",
    "test_pred = model.predict(X_test)"
   ]
  },
  {
   "cell_type": "code",
   "execution_count": 11,
   "id": "aec1aa19-9c33-4234-89c2-82bbb08fd97f",
   "metadata": {},
   "outputs": [
    {
     "data": {
      "text/plain": [
       "16004.520688319139"
      ]
     },
     "execution_count": 11,
     "metadata": {},
     "output_type": "execute_result"
    }
   ],
   "source": [
    "train_pred = scaler.inverse_transform(train_pred)\n",
    "test_pred = scaler.inverse_transform(test_pred)\n",
    "\n",
    "import math\n",
    "from sklearn.metrics import mean_squared_error\n",
    "math.sqrt(mean_squared_error(y_train, train_pred))\n",
    "math.sqrt(mean_squared_error(y_test, test_pred))"
   ]
  },
  {
   "cell_type": "code",
   "execution_count": 12,
   "id": "98fcbdda-a363-4ed9-b6b5-0a0b2b80ad33",
   "metadata": {},
   "outputs": [
    {
     "data": {
      "image/png": "[encoded data removed]",
      "text/plain": [
       "<Figure size 1440x720 with 1 Axes>"
      ]
     },
     "metadata": {
      "needs_background": "light"
     },
     "output_type": "display_data"
    }
   ],
   "source": [
    "plt.figure(figsize=(20,10))\n",
    "look_back = 100\n",
    "trainPredictPlot = np.empty_like(df)\n",
    "trainPredictPlot[:,:]= np.nan\n",
    "trainPredictPlot[look_back:len(train_pred)+look_back,:] = train_pred\n",
    "\n",
    "testPredictPlot = np.empty_like(df)\n",
    "testPredictPlot[:,:] = np.nan\n",
    "testPredictPlot[len(train_pred)+(look_back*2)+1:len(df)-1,:] = test_pred\n",
    "\n",
    "plt.plot(scaler.inverse_transform(df))\n",
    "plt.plot(trainPredictPlot)\n",
    "plt.plot(testPredictPlot)\n",
    "plt.show()"
   ]
  },
  {
   "cell_type": "code",
   "execution_count": 13,
   "id": "53363008-4108-4ea3-8fc0-02f91671acda",
   "metadata": {
    "scrolled": true,
    "tags": []
   },
   "outputs": [
    {
     "name": "stdout",
     "output_type": "stream",
     "text": [
      "Model: \"sequential_1\"\n",
      "_________________________________________________________________\n",
      " Layer (type)                Output Shape              Param #   \n",
      "=================================================================\n",
      " lstm_4 (LSTM)               (None, 100, 50)           10400     \n",
      "                                                                 \n",
      " lstm_5 (LSTM)               (None, 100, 50)           20200     \n",
      "                                                                 \n",
      " lstm_6 (LSTM)               (None, 100, 50)           20200     \n",
      "                                                                 \n",
      " lstm_7 (LSTM)               (None, 50)                20200     \n",
      "                                                                 \n",
      " dense_1 (Dense)             (None, 1)                 51        \n",
      "                                                                 \n",
      "=================================================================\n",
      "Total params: 71,051\n",
      "Trainable params: 71,051\n",
      "Non-trainable params: 0\n",
      "_________________________________________________________________\n",
      "Epoch 1/200\n"
     ]
    },
    {
     "name": "stderr",
     "output_type": "stream",
     "text": [
      "2022-07-26 14:58:59.075808: I tensorflow/core/grappler/optimizers/custom_graph_optimizer_registry.cc:113] Plugin optimizer for device_type GPU is enabled.\n",
      "2022-07-26 14:58:59.420891: I tensorflow/core/grappler/optimizers/custom_graph_optimizer_registry.cc:113] Plugin optimizer for device_type GPU is enabled.\n",
      "2022-07-26 14:58:59.532817: I tensorflow/core/grappler/optimizers/custom_graph_optimizer_registry.cc:113] Plugin optimizer for device_type GPU is enabled.\n",
      "2022-07-26 14:58:59.662961: I tensorflow/core/grappler/optimizers/custom_graph_optimizer_registry.cc:113] Plugin optimizer for device_type GPU is enabled.\n",
      "2022-07-26 14:58:59.780779: I tensorflow/core/grappler/optimizers/custom_graph_optimizer_registry.cc:113] Plugin optimizer for device_type GPU is enabled.\n",
      "2022-07-26 14:58:59.910803: I tensorflow/core/grappler/optimizers/custom_graph_optimizer_registry.cc:113] Plugin optimizer for device_type GPU is enabled.\n",
      "2022-07-26 14:59:00.118771: I tensorflow/core/grappler/optimizers/custom_graph_optimizer_registry.cc:113] Plugin optimizer for device_type GPU is enabled.\n",
      "2022-07-26 14:59:00.327378: I tensorflow/core/grappler/optimizers/custom_graph_optimizer_registry.cc:113] Plugin optimizer for device_type GPU is enabled.\n",
      "2022-07-26 14:59:00.535083: I tensorflow/core/grappler/optimizers/custom_graph_optimizer_registry.cc:113] Plugin optimizer for device_type GPU is enabled.\n"
     ]
    },
    {
     "name": "stdout",
     "output_type": "stream",
     "text": [
      "18/18 [==============================] - ETA: 0s - loss: 0.0800"
     ]
    },
    {
     "name": "stderr",
     "output_type": "stream",
     "text": [
      "2022-07-26 14:59:03.599920: I tensorflow/core/grappler/optimizers/custom_graph_optimizer_registry.cc:113] Plugin optimizer for device_type GPU is enabled.\n",
      "2022-07-26 14:59:03.734811: I tensorflow/core/grappler/optimizers/custom_graph_optimizer_registry.cc:113] Plugin optimizer for device_type GPU is enabled.\n",
      "2022-07-26 14:59:03.843608: I tensorflow/core/grappler/optimizers/custom_graph_optimizer_registry.cc:113] Plugin optimizer for device_type GPU is enabled.\n",
      "2022-07-26 14:59:03.961312: I tensorflow/core/grappler/optimizers/custom_graph_optimizer_registry.cc:113] Plugin optimizer for device_type GPU is enabled.\n"
     ]
    },
    {
     "name": "stdout",
     "output_type": "stream",
     "text": [
      "18/18 [==============================] - 7s 203ms/step - loss: 0.0800 - val_loss: 0.0202\n",
      "Epoch 2/200\n",
      " 1/18 [>.............................] - ETA: 1s - loss: 0.0080"
     ]
    },
    {
     "name": "stderr",
     "output_type": "stream",
     "text": [
      "2022-07-26 14:59:04.075649: I tensorflow/core/grappler/optimizers/custom_graph_optimizer_registry.cc:113] Plugin optimizer for device_type GPU is enabled.\n"
     ]
    },
    {
     "name": "stdout",
     "output_type": "stream",
     "text": [
      "18/18 [==============================] - 1s 78ms/step - loss: 0.0094 - val_loss: 0.0016\n",
      "Epoch 3/200\n",
      "18/18 [==============================] - 1s 77ms/step - loss: 0.0032 - val_loss: 0.0037\n",
      "Epoch 4/200\n",
      "18/18 [==============================] - 1s 74ms/step - loss: 0.0028 - val_loss: 0.0016\n",
      "Epoch 5/200\n",
      "18/18 [==============================] - 1s 74ms/step - loss: 0.0026 - val_loss: 0.0021\n",
      "Epoch 6/200\n",
      "18/18 [==============================] - 1s 78ms/step - loss: 0.0025 - val_loss: 0.0018\n",
      "Epoch 7/200\n",
      "18/18 [==============================] - 1s 76ms/step - loss: 0.0024 - val_loss: 0.0022\n",
      "Epoch 8/200\n",
      "18/18 [==============================] - 1s 75ms/step - loss: 0.0023 - val_loss: 0.0015\n",
      "Epoch 9/200\n",
      "18/18 [==============================] - 1s 75ms/step - loss: 0.0022 - val_loss: 0.0015\n",
      "Epoch 10/200\n",
      "18/18 [==============================] - 1s 77ms/step - loss: 0.0021 - val_loss: 0.0018\n",
      "Epoch 11/200\n",
      "18/18 [==============================] - 1s 74ms/step - loss: 0.0021 - val_loss: 0.0016\n",
      "Epoch 12/200\n",
      "18/18 [==============================] - 1s 75ms/step - loss: 0.0021 - val_loss: 0.0016\n",
      "Epoch 13/200\n",
      "18/18 [==============================] - 1s 74ms/step - loss: 0.0019 - val_loss: 0.0022\n",
      "Epoch 14/200\n",
      "18/18 [==============================] - 1s 74ms/step - loss: 0.0018 - val_loss: 0.0016\n",
      "Epoch 15/200\n",
      "18/18 [==============================] - 1s 77ms/step - loss: 0.0018 - val_loss: 0.0019\n",
      "Epoch 16/200\n",
      "18/18 [==============================] - 1s 78ms/step - loss: 0.0019 - val_loss: 0.0021\n",
      "Epoch 17/200\n",
      "18/18 [==============================] - 1s 76ms/step - loss: 0.0017 - val_loss: 0.0025\n",
      "Epoch 18/200\n",
      "18/18 [==============================] - 1s 76ms/step - loss: 0.0018 - val_loss: 0.0017\n",
      "Epoch 19/200\n",
      "18/18 [==============================] - 1s 74ms/step - loss: 0.0017 - val_loss: 0.0015\n",
      "Epoch 20/200\n",
      "18/18 [==============================] - 1s 76ms/step - loss: 0.0015 - val_loss: 0.0015\n",
      "Epoch 21/200\n",
      "18/18 [==============================] - 1s 76ms/step - loss: 0.0015 - val_loss: 0.0019\n",
      "Epoch 22/200\n",
      "18/18 [==============================] - 1s 81ms/step - loss: 0.0014 - val_loss: 0.0015\n",
      "Epoch 23/200\n",
      "18/18 [==============================] - 1s 78ms/step - loss: 0.0015 - val_loss: 0.0014\n",
      "Epoch 24/200\n",
      "18/18 [==============================] - 1s 76ms/step - loss: 0.0018 - val_loss: 0.0012\n",
      "Epoch 25/200\n",
      "18/18 [==============================] - 1s 75ms/step - loss: 0.0015 - val_loss: 0.0014\n",
      "Epoch 26/200\n",
      "18/18 [==============================] - 1s 76ms/step - loss: 0.0013 - val_loss: 0.0015\n",
      "Epoch 27/200\n",
      "18/18 [==============================] - 1s 76ms/step - loss: 0.0014 - val_loss: 0.0012\n",
      "Epoch 28/200\n",
      "18/18 [==============================] - 1s 80ms/step - loss: 0.0013 - val_loss: 0.0012\n",
      "Epoch 29/200\n",
      "18/18 [==============================] - 1s 79ms/step - loss: 0.0013 - val_loss: 0.0028\n",
      "Epoch 30/200\n",
      "18/18 [==============================] - 1s 80ms/step - loss: 0.0013 - val_loss: 9.9037e-04\n",
      "Epoch 31/200\n",
      "18/18 [==============================] - 1s 78ms/step - loss: 0.0012 - val_loss: 0.0010\n",
      "Epoch 32/200\n",
      "18/18 [==============================] - 1s 81ms/step - loss: 0.0012 - val_loss: 8.9605e-04\n",
      "Epoch 33/200\n",
      "18/18 [==============================] - 1s 80ms/step - loss: 0.0012 - val_loss: 8.7147e-04\n",
      "Epoch 34/200\n",
      "18/18 [==============================] - 1s 81ms/step - loss: 0.0012 - val_loss: 0.0014\n",
      "Epoch 35/200\n",
      "18/18 [==============================] - 1s 78ms/step - loss: 0.0014 - val_loss: 8.4873e-04\n",
      "Epoch 36/200\n",
      "18/18 [==============================] - 1s 78ms/step - loss: 0.0012 - val_loss: 6.2234e-04\n",
      "Epoch 37/200\n",
      "18/18 [==============================] - 1s 78ms/step - loss: 0.0012 - val_loss: 6.0481e-04\n",
      "Epoch 38/200\n",
      "18/18 [==============================] - 1s 78ms/step - loss: 0.0011 - val_loss: 5.6812e-04\n",
      "Epoch 39/200\n",
      "18/18 [==============================] - 1s 79ms/step - loss: 0.0010 - val_loss: 6.6990e-04\n",
      "Epoch 40/200\n",
      "18/18 [==============================] - 1s 78ms/step - loss: 0.0010 - val_loss: 6.2470e-04\n",
      "Epoch 41/200\n",
      "18/18 [==============================] - 1s 78ms/step - loss: 0.0012 - val_loss: 9.7418e-04\n",
      "Epoch 42/200\n",
      "18/18 [==============================] - 1s 79ms/step - loss: 0.0012 - val_loss: 0.0011\n",
      "Epoch 43/200\n",
      "18/18 [==============================] - 1s 77ms/step - loss: 0.0013 - val_loss: 0.0032\n",
      "Epoch 44/200\n",
      "18/18 [==============================] - 1s 79ms/step - loss: 0.0011 - val_loss: 4.4033e-04\n",
      "Epoch 45/200\n",
      "18/18 [==============================] - 1s 79ms/step - loss: 9.5438e-04 - val_loss: 4.6769e-04\n",
      "Epoch 46/200\n",
      "18/18 [==============================] - 1s 80ms/step - loss: 0.0011 - val_loss: 4.3501e-04\n",
      "Epoch 47/200\n",
      "18/18 [==============================] - 1s 79ms/step - loss: 9.1243e-04 - val_loss: 4.7731e-04\n",
      "Epoch 48/200\n",
      "18/18 [==============================] - 1s 79ms/step - loss: 9.0268e-04 - val_loss: 4.6135e-04\n",
      "Epoch 49/200\n",
      "18/18 [==============================] - 2s 87ms/step - loss: 8.5269e-04 - val_loss: 5.1481e-04\n",
      "Epoch 50/200\n",
      "18/18 [==============================] - 2s 88ms/step - loss: 8.2018e-04 - val_loss: 5.4811e-04\n",
      "Epoch 51/200\n",
      "18/18 [==============================] - 1s 79ms/step - loss: 8.1912e-04 - val_loss: 0.0012\n",
      "Epoch 52/200\n",
      "18/18 [==============================] - 1s 78ms/step - loss: 8.9213e-04 - val_loss: 5.6866e-04\n",
      "Epoch 53/200\n",
      "18/18 [==============================] - 1s 77ms/step - loss: 8.4856e-04 - val_loss: 3.9610e-04\n",
      "Epoch 54/200\n",
      "18/18 [==============================] - 1s 77ms/step - loss: 7.8444e-04 - val_loss: 4.0037e-04\n",
      "Epoch 55/200\n",
      "18/18 [==============================] - 1s 79ms/step - loss: 7.4142e-04 - val_loss: 7.9490e-04\n",
      "Epoch 56/200\n",
      "18/18 [==============================] - 1s 80ms/step - loss: 7.9942e-04 - val_loss: 3.5872e-04\n",
      "Epoch 57/200\n",
      "18/18 [==============================] - 1s 79ms/step - loss: 7.1820e-04 - val_loss: 8.1575e-04\n",
      "Epoch 58/200\n",
      "18/18 [==============================] - 1s 76ms/step - loss: 6.7261e-04 - val_loss: 3.9860e-04\n",
      "Epoch 59/200\n",
      "18/18 [==============================] - 1s 76ms/step - loss: 8.6012e-04 - val_loss: 3.7773e-04\n",
      "Epoch 60/200\n",
      "18/18 [==============================] - 1s 76ms/step - loss: 6.5097e-04 - val_loss: 3.6505e-04\n",
      "Epoch 61/200\n",
      "18/18 [==============================] - 1s 78ms/step - loss: 6.2569e-04 - val_loss: 6.9506e-04\n",
      "Epoch 62/200\n",
      "18/18 [==============================] - 1s 78ms/step - loss: 6.5284e-04 - val_loss: 8.3223e-04\n",
      "Epoch 63/200\n",
      "18/18 [==============================] - 1s 77ms/step - loss: 5.7497e-04 - val_loss: 3.5346e-04\n",
      "Epoch 64/200\n",
      "18/18 [==============================] - 1s 78ms/step - loss: 6.0469e-04 - val_loss: 4.2591e-04\n",
      "Epoch 65/200\n",
      "18/18 [==============================] - 1s 79ms/step - loss: 6.5758e-04 - val_loss: 4.4560e-04\n",
      "Epoch 66/200\n",
      "18/18 [==============================] - 1s 78ms/step - loss: 5.3465e-04 - val_loss: 3.9128e-04\n",
      "Epoch 67/200\n",
      "18/18 [==============================] - 1s 77ms/step - loss: 6.1336e-04 - val_loss: 6.2526e-04\n",
      "Epoch 68/200\n",
      "18/18 [==============================] - 1s 78ms/step - loss: 8.4643e-04 - val_loss: 0.0014\n",
      "Epoch 69/200\n",
      "18/18 [==============================] - 1s 78ms/step - loss: 6.5258e-04 - val_loss: 8.0524e-04\n",
      "Epoch 70/200\n",
      "18/18 [==============================] - 1s 80ms/step - loss: 5.8944e-04 - val_loss: 6.9436e-04\n",
      "Epoch 71/200\n",
      "18/18 [==============================] - 1s 77ms/step - loss: 5.8718e-04 - val_loss: 3.5434e-04\n",
      "Epoch 72/200\n",
      "18/18 [==============================] - 1s 78ms/step - loss: 5.5082e-04 - val_loss: 4.2210e-04\n",
      "Epoch 73/200\n",
      "18/18 [==============================] - 1s 79ms/step - loss: 6.4585e-04 - val_loss: 0.0026\n",
      "Epoch 74/200\n",
      "18/18 [==============================] - 1s 76ms/step - loss: 6.5949e-04 - val_loss: 3.8452e-04\n",
      "Epoch 75/200\n",
      "18/18 [==============================] - 1s 77ms/step - loss: 5.0209e-04 - val_loss: 3.3646e-04\n",
      "Epoch 76/200\n",
      "18/18 [==============================] - 1s 78ms/step - loss: 4.7892e-04 - val_loss: 3.9329e-04\n",
      "Epoch 77/200\n",
      "18/18 [==============================] - 1s 77ms/step - loss: 4.7052e-04 - val_loss: 4.4647e-04\n",
      "Epoch 78/200\n",
      "18/18 [==============================] - 1s 77ms/step - loss: 4.4335e-04 - val_loss: 6.2924e-04\n",
      "Epoch 79/200\n",
      "18/18 [==============================] - 1s 75ms/step - loss: 4.7455e-04 - val_loss: 0.0012\n",
      "Epoch 80/200\n",
      "18/18 [==============================] - 1s 74ms/step - loss: 6.0309e-04 - val_loss: 3.4209e-04\n",
      "Epoch 81/200\n",
      "18/18 [==============================] - 1s 74ms/step - loss: 4.4277e-04 - val_loss: 7.3915e-04\n",
      "Epoch 82/200\n",
      "18/18 [==============================] - 1s 76ms/step - loss: 4.3729e-04 - val_loss: 2.8256e-04\n",
      "Epoch 83/200\n",
      "18/18 [==============================] - 1s 75ms/step - loss: 5.3036e-04 - val_loss: 2.6852e-04\n",
      "Epoch 84/200\n",
      "18/18 [==============================] - 1s 75ms/step - loss: 4.2909e-04 - val_loss: 3.3426e-04\n",
      "Epoch 85/200\n",
      "18/18 [==============================] - 1s 75ms/step - loss: 5.1230e-04 - val_loss: 5.3201e-04\n",
      "Epoch 86/200\n",
      "18/18 [==============================] - 1s 75ms/step - loss: 4.3409e-04 - val_loss: 6.6329e-04\n",
      "Epoch 87/200\n",
      "18/18 [==============================] - 1s 77ms/step - loss: 4.0549e-04 - val_loss: 3.0511e-04\n",
      "Epoch 88/200\n",
      "18/18 [==============================] - 1s 76ms/step - loss: 4.2452e-04 - val_loss: 2.6516e-04\n",
      "Epoch 89/200\n",
      "18/18 [==============================] - 1s 76ms/step - loss: 3.9448e-04 - val_loss: 2.8571e-04\n",
      "Epoch 90/200\n",
      "18/18 [==============================] - 1s 75ms/step - loss: 3.8642e-04 - val_loss: 3.4200e-04\n",
      "Epoch 91/200\n",
      "18/18 [==============================] - 1s 77ms/step - loss: 3.8870e-04 - val_loss: 2.1995e-04\n",
      "Epoch 92/200\n",
      "18/18 [==============================] - 1s 75ms/step - loss: 3.6376e-04 - val_loss: 2.4427e-04\n",
      "Epoch 93/200\n",
      "18/18 [==============================] - 1s 75ms/step - loss: 3.8836e-04 - val_loss: 2.0748e-04\n",
      "Epoch 94/200\n",
      "18/18 [==============================] - 1s 75ms/step - loss: 3.7734e-04 - val_loss: 3.7992e-04\n",
      "Epoch 95/200\n",
      "18/18 [==============================] - 1s 75ms/step - loss: 3.3178e-04 - val_loss: 5.9749e-04\n",
      "Epoch 96/200\n",
      "18/18 [==============================] - 1s 75ms/step - loss: 3.7863e-04 - val_loss: 2.1299e-04\n",
      "Epoch 97/200\n",
      "18/18 [==============================] - 1s 78ms/step - loss: 3.7956e-04 - val_loss: 3.3313e-04\n",
      "Epoch 98/200\n",
      "18/18 [==============================] - 1s 76ms/step - loss: 3.8223e-04 - val_loss: 1.8813e-04\n",
      "Epoch 99/200\n",
      "18/18 [==============================] - 1s 75ms/step - loss: 3.4690e-04 - val_loss: 2.0622e-04\n",
      "Epoch 100/200\n",
      "18/18 [==============================] - 1s 75ms/step - loss: 4.4130e-04 - val_loss: 8.6659e-04\n",
      "Epoch 101/200\n",
      "18/18 [==============================] - 1s 78ms/step - loss: 4.7559e-04 - val_loss: 0.0011\n",
      "Epoch 102/200\n",
      "18/18 [==============================] - 1s 75ms/step - loss: 5.6265e-04 - val_loss: 4.6585e-04\n",
      "Epoch 103/200\n",
      "18/18 [==============================] - 1s 75ms/step - loss: 5.0927e-04 - val_loss: 4.1484e-04\n",
      "Epoch 104/200\n",
      "18/18 [==============================] - 1s 75ms/step - loss: 3.8037e-04 - val_loss: 1.8226e-04\n",
      "Epoch 105/200\n",
      "18/18 [==============================] - 1s 76ms/step - loss: 4.1020e-04 - val_loss: 5.3282e-04\n",
      "Epoch 106/200\n",
      "18/18 [==============================] - 1s 75ms/step - loss: 3.2525e-04 - val_loss: 6.7391e-04\n",
      "Epoch 107/200\n",
      "18/18 [==============================] - 1s 76ms/step - loss: 3.5697e-04 - val_loss: 1.6273e-04\n",
      "Epoch 108/200\n",
      "18/18 [==============================] - 1s 76ms/step - loss: 3.7591e-04 - val_loss: 7.8251e-04\n",
      "Epoch 109/200\n",
      "18/18 [==============================] - 1s 74ms/step - loss: 5.9344e-04 - val_loss: 3.0640e-04\n",
      "Epoch 110/200\n",
      "18/18 [==============================] - 1s 76ms/step - loss: 4.3671e-04 - val_loss: 6.0741e-04\n",
      "Epoch 111/200\n",
      "18/18 [==============================] - 1s 75ms/step - loss: 3.5558e-04 - val_loss: 3.0708e-04\n",
      "Epoch 112/200\n",
      "18/18 [==============================] - 1s 75ms/step - loss: 3.3212e-04 - val_loss: 1.5062e-04\n",
      "Epoch 113/200\n",
      "18/18 [==============================] - 1s 76ms/step - loss: 2.9925e-04 - val_loss: 1.5829e-04\n",
      "Epoch 114/200\n",
      "18/18 [==============================] - 1s 75ms/step - loss: 3.1316e-04 - val_loss: 3.6861e-04\n",
      "Epoch 115/200\n",
      "18/18 [==============================] - 1s 76ms/step - loss: 3.2968e-04 - val_loss: 1.9563e-04\n",
      "Epoch 116/200\n",
      "18/18 [==============================] - 1s 76ms/step - loss: 2.7776e-04 - val_loss: 2.0484e-04\n",
      "Epoch 117/200\n",
      "18/18 [==============================] - 1s 76ms/step - loss: 2.6847e-04 - val_loss: 1.8862e-04\n",
      "Epoch 118/200\n",
      "18/18 [==============================] - 1s 74ms/step - loss: 3.1623e-04 - val_loss: 2.3447e-04\n",
      "Epoch 119/200\n",
      "18/18 [==============================] - 1s 75ms/step - loss: 2.8635e-04 - val_loss: 1.9141e-04\n",
      "Epoch 120/200\n",
      "18/18 [==============================] - 1s 76ms/step - loss: 2.5512e-04 - val_loss: 5.3458e-04\n",
      "Epoch 121/200\n",
      "18/18 [==============================] - 1s 75ms/step - loss: 2.6326e-04 - val_loss: 1.3494e-04\n",
      "Epoch 122/200\n",
      "18/18 [==============================] - 1s 76ms/step - loss: 2.4262e-04 - val_loss: 1.3061e-04\n",
      "Epoch 123/200\n",
      "18/18 [==============================] - 1s 76ms/step - loss: 2.5483e-04 - val_loss: 1.5198e-04\n",
      "Epoch 124/200\n",
      "18/18 [==============================] - 1s 76ms/step - loss: 2.5224e-04 - val_loss: 1.3755e-04\n",
      "Epoch 125/200\n",
      "18/18 [==============================] - 1s 76ms/step - loss: 2.7984e-04 - val_loss: 7.1069e-04\n",
      "Epoch 126/200\n",
      "18/18 [==============================] - 1s 76ms/step - loss: 3.0005e-04 - val_loss: 1.5831e-04\n",
      "Epoch 127/200\n",
      "18/18 [==============================] - 1s 77ms/step - loss: 2.5737e-04 - val_loss: 1.4993e-04\n",
      "Epoch 128/200\n",
      "18/18 [==============================] - 1s 75ms/step - loss: 2.8786e-04 - val_loss: 1.6286e-04\n",
      "Epoch 129/200\n",
      "18/18 [==============================] - 1s 75ms/step - loss: 2.3902e-04 - val_loss: 3.3656e-04\n",
      "Epoch 130/200\n",
      "18/18 [==============================] - 1s 77ms/step - loss: 2.5467e-04 - val_loss: 1.6369e-04\n",
      "Epoch 131/200\n",
      "18/18 [==============================] - 1s 76ms/step - loss: 3.4656e-04 - val_loss: 1.2819e-04\n",
      "Epoch 132/200\n",
      "18/18 [==============================] - 1s 76ms/step - loss: 3.8178e-04 - val_loss: 1.4589e-04\n",
      "Epoch 133/200\n",
      "18/18 [==============================] - 1s 76ms/step - loss: 3.6287e-04 - val_loss: 3.4817e-04\n",
      "Epoch 134/200\n",
      "18/18 [==============================] - 1s 76ms/step - loss: 2.6409e-04 - val_loss: 1.2842e-04\n",
      "Epoch 135/200\n",
      "18/18 [==============================] - 1s 76ms/step - loss: 2.5469e-04 - val_loss: 1.6799e-04\n",
      "Epoch 136/200\n",
      "18/18 [==============================] - 1s 76ms/step - loss: 2.6039e-04 - val_loss: 6.1339e-04\n",
      "Epoch 137/200\n",
      "18/18 [==============================] - 1s 77ms/step - loss: 3.4919e-04 - val_loss: 1.4735e-04\n",
      "Epoch 138/200\n",
      "18/18 [==============================] - 1s 77ms/step - loss: 2.4122e-04 - val_loss: 1.7986e-04\n",
      "Epoch 139/200\n",
      "18/18 [==============================] - 1s 78ms/step - loss: 2.2629e-04 - val_loss: 1.7073e-04\n",
      "Epoch 140/200\n",
      "18/18 [==============================] - 1s 79ms/step - loss: 2.3145e-04 - val_loss: 1.2902e-04\n",
      "Epoch 141/200\n",
      "18/18 [==============================] - 1s 76ms/step - loss: 2.2369e-04 - val_loss: 2.2053e-04\n",
      "Epoch 142/200\n",
      "18/18 [==============================] - 1s 79ms/step - loss: 2.2527e-04 - val_loss: 1.5712e-04\n",
      "Epoch 143/200\n",
      "18/18 [==============================] - 1s 79ms/step - loss: 2.2971e-04 - val_loss: 1.2125e-04\n",
      "Epoch 144/200\n",
      "18/18 [==============================] - 1s 78ms/step - loss: 2.0667e-04 - val_loss: 1.2358e-04\n",
      "Epoch 145/200\n",
      "18/18 [==============================] - 1s 77ms/step - loss: 2.2775e-04 - val_loss: 1.3489e-04\n",
      "Epoch 146/200\n",
      "18/18 [==============================] - 1s 79ms/step - loss: 2.0617e-04 - val_loss: 1.3278e-04\n",
      "Epoch 147/200\n",
      "18/18 [==============================] - 1s 77ms/step - loss: 2.1257e-04 - val_loss: 1.2065e-04\n",
      "Epoch 148/200\n",
      "18/18 [==============================] - 1s 75ms/step - loss: 2.4430e-04 - val_loss: 2.0036e-04\n",
      "Epoch 149/200\n",
      "18/18 [==============================] - 1s 76ms/step - loss: 2.8356e-04 - val_loss: 2.9390e-04\n",
      "Epoch 150/200\n",
      "18/18 [==============================] - 1s 76ms/step - loss: 2.7674e-04 - val_loss: 1.2079e-04\n",
      "Epoch 151/200\n",
      "18/18 [==============================] - 1s 77ms/step - loss: 2.1768e-04 - val_loss: 1.2537e-04\n",
      "Epoch 152/200\n",
      "18/18 [==============================] - 1s 79ms/step - loss: 2.0561e-04 - val_loss: 2.0587e-04\n",
      "Epoch 153/200\n",
      "18/18 [==============================] - 1s 77ms/step - loss: 2.5807e-04 - val_loss: 6.8097e-04\n",
      "Epoch 154/200\n",
      "18/18 [==============================] - 1s 76ms/step - loss: 3.3537e-04 - val_loss: 1.4230e-04\n",
      "Epoch 155/200\n",
      "18/18 [==============================] - 1s 77ms/step - loss: 2.6340e-04 - val_loss: 1.3473e-04\n",
      "Epoch 156/200\n",
      "18/18 [==============================] - 1s 77ms/step - loss: 2.1400e-04 - val_loss: 1.2293e-04\n",
      "Epoch 157/200\n",
      "18/18 [==============================] - 1s 76ms/step - loss: 2.0632e-04 - val_loss: 1.9477e-04\n",
      "Epoch 158/200\n",
      "18/18 [==============================] - 1s 78ms/step - loss: 2.2248e-04 - val_loss: 1.2491e-04\n",
      "Epoch 159/200\n",
      "18/18 [==============================] - 1s 78ms/step - loss: 2.0424e-04 - val_loss: 1.4560e-04\n",
      "Epoch 160/200\n",
      "18/18 [==============================] - 1s 79ms/step - loss: 2.1100e-04 - val_loss: 1.5170e-04\n",
      "Epoch 161/200\n",
      "18/18 [==============================] - 1s 79ms/step - loss: 2.2810e-04 - val_loss: 1.7371e-04\n",
      "Epoch 162/200\n",
      "18/18 [==============================] - 1s 79ms/step - loss: 3.1436e-04 - val_loss: 4.6171e-04\n",
      "Epoch 163/200\n",
      "18/18 [==============================] - 1s 79ms/step - loss: 3.0458e-04 - val_loss: 1.5374e-04\n",
      "Epoch 164/200\n",
      "18/18 [==============================] - 1s 78ms/step - loss: 2.1404e-04 - val_loss: 1.4159e-04\n",
      "Epoch 165/200\n",
      "18/18 [==============================] - 1s 80ms/step - loss: 2.7700e-04 - val_loss: 6.8582e-04\n",
      "Epoch 166/200\n",
      "18/18 [==============================] - 2s 84ms/step - loss: 3.0216e-04 - val_loss: 1.2388e-04\n",
      "Epoch 167/200\n",
      "18/18 [==============================] - 1s 80ms/step - loss: 2.2625e-04 - val_loss: 1.2945e-04\n",
      "Epoch 168/200\n",
      "18/18 [==============================] - 1s 80ms/step - loss: 2.1638e-04 - val_loss: 1.2644e-04\n",
      "Epoch 169/200\n",
      "18/18 [==============================] - 1s 81ms/step - loss: 2.1744e-04 - val_loss: 1.3900e-04\n",
      "Epoch 170/200\n",
      "18/18 [==============================] - 1s 79ms/step - loss: 2.2112e-04 - val_loss: 3.1564e-04\n",
      "Epoch 171/200\n",
      "18/18 [==============================] - 1s 78ms/step - loss: 2.2265e-04 - val_loss: 1.3239e-04\n",
      "Epoch 172/200\n",
      "18/18 [==============================] - 1s 78ms/step - loss: 2.0923e-04 - val_loss: 1.2319e-04\n",
      "Epoch 173/200\n",
      "18/18 [==============================] - 1s 78ms/step - loss: 2.4551e-04 - val_loss: 1.2584e-04\n",
      "Epoch 174/200\n",
      "18/18 [==============================] - 1s 78ms/step - loss: 2.1451e-04 - val_loss: 1.2389e-04\n",
      "Epoch 175/200\n",
      "18/18 [==============================] - 1s 80ms/step - loss: 2.0470e-04 - val_loss: 1.2485e-04\n",
      "Epoch 176/200\n",
      "18/18 [==============================] - 1s 80ms/step - loss: 2.4940e-04 - val_loss: 1.7150e-04\n",
      "Epoch 177/200\n",
      "18/18 [==============================] - 1s 78ms/step - loss: 2.0477e-04 - val_loss: 1.3273e-04\n",
      "Epoch 178/200\n",
      "18/18 [==============================] - 1s 80ms/step - loss: 1.9667e-04 - val_loss: 1.2563e-04\n",
      "Epoch 179/200\n",
      "18/18 [==============================] - 1s 82ms/step - loss: 2.1889e-04 - val_loss: 3.9077e-04\n",
      "Epoch 180/200\n",
      "18/18 [==============================] - 1s 81ms/step - loss: 2.2865e-04 - val_loss: 1.3850e-04\n",
      "Epoch 181/200\n",
      "18/18 [==============================] - 1s 80ms/step - loss: 2.4011e-04 - val_loss: 1.3145e-04\n",
      "Epoch 182/200\n",
      "18/18 [==============================] - 1s 79ms/step - loss: 2.0437e-04 - val_loss: 4.4675e-04\n",
      "Epoch 183/200\n",
      "18/18 [==============================] - 1s 79ms/step - loss: 2.3114e-04 - val_loss: 3.0259e-04\n",
      "Epoch 184/200\n",
      "18/18 [==============================] - 1s 79ms/step - loss: 2.4476e-04 - val_loss: 3.1034e-04\n",
      "Epoch 185/200\n",
      "18/18 [==============================] - 1s 80ms/step - loss: 2.2521e-04 - val_loss: 1.3330e-04\n",
      "Epoch 186/200\n",
      "18/18 [==============================] - 1s 79ms/step - loss: 2.0494e-04 - val_loss: 2.0185e-04\n",
      "Epoch 187/200\n",
      "18/18 [==============================] - 1s 79ms/step - loss: 3.5805e-04 - val_loss: 1.9779e-04\n",
      "Epoch 188/200\n",
      "18/18 [==============================] - 1s 79ms/step - loss: 2.1368e-04 - val_loss: 5.5262e-04\n",
      "Epoch 189/200\n",
      "18/18 [==============================] - 1s 79ms/step - loss: 3.3046e-04 - val_loss: 1.2649e-04\n",
      "Epoch 190/200\n",
      "18/18 [==============================] - 1s 82ms/step - loss: 2.0601e-04 - val_loss: 2.7481e-04\n",
      "Epoch 191/200\n",
      "18/18 [==============================] - 1s 81ms/step - loss: 2.1176e-04 - val_loss: 1.3105e-04\n",
      "Epoch 192/200\n",
      "18/18 [==============================] - 1s 80ms/step - loss: 2.0341e-04 - val_loss: 1.3174e-04\n",
      "Epoch 193/200\n",
      "18/18 [==============================] - 1s 79ms/step - loss: 2.1472e-04 - val_loss: 3.8504e-04\n",
      "Epoch 194/200\n",
      "18/18 [==============================] - 1s 79ms/step - loss: 2.3504e-04 - val_loss: 3.1989e-04\n",
      "Epoch 195/200\n",
      "18/18 [==============================] - 1s 81ms/step - loss: 2.3889e-04 - val_loss: 1.2434e-04\n",
      "Epoch 196/200\n",
      "18/18 [==============================] - 1s 82ms/step - loss: 2.0413e-04 - val_loss: 1.8036e-04\n",
      "Epoch 197/200\n",
      "18/18 [==============================] - 1s 80ms/step - loss: 2.0437e-04 - val_loss: 1.2815e-04\n",
      "Epoch 198/200\n",
      "18/18 [==============================] - 1s 80ms/step - loss: 2.2937e-04 - val_loss: 1.4406e-04\n",
      "Epoch 199/200\n",
      "18/18 [==============================] - 1s 82ms/step - loss: 2.5284e-04 - val_loss: 2.9107e-04\n",
      "Epoch 200/200\n",
      "18/18 [==============================] - 1s 81ms/step - loss: 2.3090e-04 - val_loss: 2.7700e-04\n"
     ]
    },
    {
     "data": {
      "text/plain": [
       "<keras.callbacks.History at 0x2a53955e0>"
      ]
     },
     "execution_count": 13,
     "metadata": {},
     "output_type": "execute_result"
    }
   ],
   "source": [
    "X, y = create_dataset(df, 100)\n",
    "model2 = Sequential()\n",
    "model2.add(LSTM(50,return_sequences=True,input_shape=(100,1)))\n",
    "model2.add(LSTM(50,return_sequences=True))\n",
    "model2.add(LSTM(50,return_sequences=True))\n",
    "model2.add(LSTM(50))\n",
    "model2.add(Dense(1))\n",
    "model2.compile(loss='mean_squared_error', optimizer='adam')\n",
    "\n",
    "model2.summary()\n",
    "model2.fit(X,y,validation_data=(X_test,y_test),epochs=200,batch_size=64,verbose=1)"
   ]
  },
  {
   "cell_type": "code",
   "execution_count": null,
   "id": "ca801afb-a982-40ea-a9df-9ef6c2fdc0de",
   "metadata": {},
   "outputs": [
    {
     "name": "stderr",
     "output_type": "stream",
     "text": [
      "2022-07-26 15:03:42.060344: I tensorflow/core/grappler/optimizers/custom_graph_optimizer_registry.cc:113] Plugin optimizer for device_type GPU is enabled.\n",
      "2022-07-26 15:03:42.192545: I tensorflow/core/grappler/optimizers/custom_graph_optimizer_registry.cc:113] Plugin optimizer for device_type GPU is enabled.\n",
      "2022-07-26 15:03:42.306225: I tensorflow/core/grappler/optimizers/custom_graph_optimizer_registry.cc:113] Plugin optimizer for device_type GPU is enabled.\n",
      "2022-07-26 15:03:42.425981: I tensorflow/core/grappler/optimizers/custom_graph_optimizer_registry.cc:113] Plugin optimizer for device_type GPU is enabled.\n"
     ]
    },
    {
     "name": "stdout",
     "output_type": "stream",
     "text": [
      "1/1 [==============================] - 1s 1s/step\n"
     ]
    },
    {
     "name": "stderr",
     "output_type": "stream",
     "text": [
      "2022-07-26 15:03:42.539869: I tensorflow/core/grappler/optimizers/custom_graph_optimizer_registry.cc:113] Plugin optimizer for device_type GPU is enabled.\n"
     ]
    }
   ],
   "source": [
    "test_pred = model2.predict(X_test)"
   ]
  },
  {
   "cell_type": "code",
   "execution_count": null,
   "id": "f4d749e6-76f0-4606-90f0-9817adbf249a",
   "metadata": {},
   "outputs": [],
   "source": [
    "test_pred = scaler.inverse_transform(test_pred)"
   ]
  },
  {
   "cell_type": "code",
   "execution_count": null,
   "id": "4549f469-f368-48a3-8cc2-bba87933368b",
   "metadata": {},
   "outputs": [
    {
     "data": {
      "text/plain": [
       "(23,)"
      ]
     },
     "execution_count": 16,
     "metadata": {},
     "output_type": "execute_result"
    }
   ],
   "source": [
    "y_test.shape"
   ]
  },
  {
   "cell_type": "code",
   "execution_count": null,
   "id": "774cf3e5-06a1-4fda-891e-a32f23e18f77",
   "metadata": {},
   "outputs": [
    {
     "data": {
      "text/plain": [
       "<matplotlib.legend.Legend at 0x2bee3c730>"
      ]
     },
     "execution_count": 17,
     "metadata": {},
     "output_type": "execute_result"
    },
    {
     "data": {
      "image/png": "[encoded data removed]",
      "text/plain": [
       "<Figure size 432x288 with 1 Axes>"
      ]
     },
     "metadata": {
      "needs_background": "light"
     },
     "output_type": "display_data"
    }
   ],
   "source": [
    "plt.plot(test_pred,label='pred')\n",
    "plt.plot(scaler.inverse_transform(y_test.reshape(23,1)),label='actual')\n",
    "plt.legend()"
   ]
  },
  {
   "cell_type": "code",
   "execution_count": null,
   "id": "4dda2f58-0238-40bc-a997-2d0abac7f21a",
   "metadata": {},
   "outputs": [],
   "source": [
    "m = X[-1].reshape(1,100,1)\n",
    "data = []"
   ]
  },
  {
   "cell_type": "code",
   "execution_count": null,
   "id": "fd1463e1-937d-4581-be51-ab1327bec2a1",
   "metadata": {},
   "outputs": [
    {
     "name": "stdout",
     "output_type": "stream",
     "text": [
      "1/1 [==============================] - 1s 1s/step\n",
      "price on day 0: [[16431.719]]\n",
      "1/1 [==============================] - 0s 45ms/step\n",
      "price on day 1: [[16313.849]]\n",
      "1/1 [==============================] - 0s 44ms/step\n",
      "price on day 2: [[16219.965]]\n",
      "1/1 [==============================] - 0s 46ms/step\n",
      "price on day 3: [[16156.208]]\n",
      "1/1 [==============================] - 0s 47ms/step\n",
      "price on day 4: [[16085.623]]\n",
      "1/1 [==============================] - 0s 44ms/step\n",
      "price on day 5: [[16002.825]]\n"
     ]
    }
   ],
   "source": [
    "for i in range(6):\n",
    "    a = model2.predict(m)\n",
    "    print('price on day '+str(i)+': '+str(scaler.inverse_transform(a)))\n",
    "    data.append(scaler.inverse_transform(a))\n",
    "    m = np.insert(m,100,a)\n",
    "    m = np.delete(m,0).reshape(1,100,1)"
   ]
  },
  {
   "cell_type": "code",
   "execution_count": null,
   "id": "73769b97-bab1-46f7-a7a6-87b2202293b1",
   "metadata": {},
   "outputs": [
    {
     "data": {
      "image/png": "[encoded data removed]",
      "text/plain": [
       "<Figure size 1440x720 with 1 Axes>"
      ]
     },
     "metadata": {
      "needs_background": "light"
     },
     "output_type": "display_data"
    }
   ],
   "source": [
    "plt.figure(figsize=(20,10))\n",
    "plt.vlines(1237, 6000, 20000, linestyles =\"dotted\", colors =\"k\")\n",
    "plt.plot(np.hstack([np.array(df2),np.hstack(data).ravel()]))\n",
    "plt.show()"
   ]
  },
  {
   "cell_type": "code",
   "execution_count": null,
   "id": "5aced042-413a-41ed-83a6-bffc4161151c",
   "metadata": {},
   "outputs": [],
   "source": []
  }
 ],
 "metadata": {
  "kernelspec": {
   "display_name": "Python 3 (ipykernel)",
   "language": "python",
   "name": "python3"
  },
  "language_info": {
   "codemirror_mode": {
    "name": "ipython",
    "version": 3
   },
   "file_extension": ".py",
   "mimetype": "text/x-python",
   "name": "python",
   "nbconvert_exporter": "python",
   "pygments_lexer": "ipython3",
   "version": "3.9.13"
  }
 },
 "nbformat": 4,
 "nbformat_minor": 5
}
